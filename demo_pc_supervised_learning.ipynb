{
 "cells": [
  {
   "cell_type": "code",
   "execution_count": 238,
   "metadata": {},
   "outputs": [
    {
     "name": "stdout",
     "output_type": "stream",
     "text": [
      "using cuda\n"
     ]
    }
   ],
   "source": [
    "import torch\n",
    "import torch.nn as nn\n",
    "import torch.optim as optim\n",
    "from torchvision import datasets, transforms\n",
    "import torch.nn.functional as F\n",
    "import random\n",
    "import numpy as np\n",
    "import os\n",
    "import matplotlib.pyplot as plt\n",
    "from tqdm import tqdm\n",
    "import copy \n",
    "\n",
    "import predictive_coding as pc\n",
    "\n",
    "device = torch.device(\"cuda\" if torch.cuda.is_available() else \"cpu\")\n",
    "print(f'using {device}')"
   ]
  },
  {
   "cell_type": "code",
   "execution_count": 266,
   "metadata": {},
   "outputs": [
    {
     "name": "stdout",
     "output_type": "stream",
     "text": [
      "train: 10000, val: 500, test: 2000\n"
     ]
    }
   ],
   "source": [
    "n_train = 10000\n",
    "n_val = 500\n",
    "n_test = 2000\n",
    "transform = transforms.Compose([transforms.ToTensor(), transforms.Lambda(lambda x: torch.flatten(x))])\n",
    "dataset_train = datasets.MNIST('./data', download=True, train=True, transform=transform)\n",
    "dataset_eval = datasets.MNIST('./data', download=True, train=False, transform=transform)\n",
    "\n",
    "# Randomly sample the train dataset\n",
    "train_dataset = torch.utils.data.Subset(dataset_train, random.sample(range(len(dataset_train)), n_train))\n",
    "\n",
    "# Randomly sample the val dataset\n",
    "val_dataset, test_dataset, not_used = torch.utils.data.random_split(dataset_eval, [n_val, n_test, dataset_eval.__len__()-n_val-n_test])\n",
    "\n",
    "print(f'train: {len(train_dataset)}, val: {len(val_dataset)}, test: {len(test_dataset)}')"
   ]
  },
  {
   "cell_type": "markdown",
   "metadata": {},
   "source": [
    "PC reversed direction"
   ]
  },
  {
   "cell_type": "code",
   "execution_count": 240,
   "metadata": {},
   "outputs": [
    {
     "data": {
      "text/plain": [
       "Sequential(\n",
       "  (0): Linear(in_features=784, out_features=256, bias=True)\n",
       "  (1): PCLayer()\n",
       "  (2): Tanh()\n",
       "  (3): Linear(in_features=256, out_features=128, bias=True)\n",
       "  (4): PCLayer()\n",
       "  (5): Tanh()\n",
       "  (6): Linear(in_features=128, out_features=10, bias=True)\n",
       ")"
      ]
     },
     "execution_count": 240,
     "metadata": {},
     "output_type": "execute_result"
    }
   ],
   "source": [
    "input_size = 28*28\n",
    "hidden_size = 256\n",
    "hidden2_size = 128\n",
    "output_size = 10\n",
    "\n",
    "# activation_fn = nn.ReLU\n",
    "activation_fn = nn.Tanh\n",
    "\n",
    "def get_model(input_size, hidden_size, hidden2_size, output_size, activation_fn):\n",
    "    return nn.Sequential(\n",
    "        nn.Linear(input_size, hidden_size),\n",
    "        pc.PCLayer(),\n",
    "        activation_fn(),\n",
    "        nn.Linear(hidden_size, hidden2_size),\n",
    "        pc.PCLayer(),\n",
    "        activation_fn(),\n",
    "        nn.Linear(hidden2_size, output_size)\n",
    "    )\n",
    "\n",
    "pc_reversed = get_model(input_size, hidden_size, hidden2_size, output_size, activation_fn)\n",
    "pc_reversed.train()\n",
    "pc_reversed.to(device)"
   ]
  },
  {
   "cell_type": "code",
   "execution_count": 241,
   "metadata": {},
   "outputs": [],
   "source": [
    "T = 50                             # number of inference iterations\n",
    "update_x_at = 'all'                 # update latent state x at every iteration\n",
    "optimizer_x_fn = optim.Adam         # optimizer for latent state x\n",
    "optimizer_x_kwargs = {'lr': 0.1}    # optimizer parameters for latent state x\n",
    "update_p_at = 'last'               # update parameters p at the last iteration\n",
    "optimizer_p_fn = optim.Adam          # optimizer for parameters p\n",
    "optimizer_p_kwargs = {'lr': 0.01, \"weight_decay\":0.05} # optimizer parameters for parameters p\n",
    "plot_progress_at = []            # plot progress every inference iterations\n",
    "\n",
    "trainer_reversed = pc.PCTrainer(pc_reversed, \n",
    "    T = T, \n",
    "    update_x_at = update_x_at, \n",
    "    optimizer_x_fn = optimizer_x_fn,\n",
    "    optimizer_x_kwargs = optimizer_x_kwargs,\n",
    "    update_p_at = update_p_at,   \n",
    "    optimizer_p_fn = optimizer_p_fn,\n",
    "    optimizer_p_kwargs = optimizer_p_kwargs,\n",
    "    plot_progress_at= plot_progress_at,\n",
    ")\n",
    "\n",
    "def test_reversed(model, dataset, batch_size=1000):\n",
    "    model.eval()\n",
    "    test_loader = torch.utils.data.DataLoader(dataset, batch_size=batch_size, shuffle=False)\n",
    "    correct = 0\n",
    "    total = 0\n",
    "    for data, label in test_loader:\n",
    "        data, label = data.to(device), label.to(device)\n",
    "        pred = model(data)\n",
    "        _, predicted = torch.max(pred, -1)\n",
    "        total += label.size(0)\n",
    "        correct += (predicted == label).sum().item()\n",
    "    model.train()\n",
    "    return round(correct / total, 4)"
   ]
  },
  {
   "cell_type": "code",
   "execution_count": 242,
   "metadata": {},
   "outputs": [
    {
     "name": "stderr",
     "output_type": "stream",
     "text": [
      "Epoch 1: 100%|██████████| 10/10 [00:02<00:00,  4.02it/s]\n"
     ]
    },
    {
     "name": "stdout",
     "output_type": "stream",
     "text": [
      "Epoch 1 - Train acc: 0.205, Val acc: 0.196\n"
     ]
    },
    {
     "name": "stderr",
     "output_type": "stream",
     "text": [
      "Epoch 2: 100%|██████████| 10/10 [00:02<00:00,  3.88it/s]\n"
     ]
    },
    {
     "name": "stdout",
     "output_type": "stream",
     "text": [
      "Epoch 2 - Train acc: 0.304, Val acc: 0.302\n"
     ]
    },
    {
     "name": "stderr",
     "output_type": "stream",
     "text": [
      "Epoch 3: 100%|██████████| 10/10 [00:01<00:00,  5.70it/s]\n"
     ]
    },
    {
     "name": "stdout",
     "output_type": "stream",
     "text": [
      "Epoch 3 - Train acc: 0.3985, Val acc: 0.382\n"
     ]
    },
    {
     "name": "stderr",
     "output_type": "stream",
     "text": [
      "Epoch 4: 100%|██████████| 10/10 [00:02<00:00,  4.21it/s]\n"
     ]
    },
    {
     "name": "stdout",
     "output_type": "stream",
     "text": [
      "Epoch 4 - Train acc: 0.4275, Val acc: 0.41\n"
     ]
    },
    {
     "name": "stderr",
     "output_type": "stream",
     "text": [
      "Epoch 5: 100%|██████████| 10/10 [00:02<00:00,  3.97it/s]\n"
     ]
    },
    {
     "name": "stdout",
     "output_type": "stream",
     "text": [
      "Epoch 5 - Train acc: 0.5845, Val acc: 0.554\n"
     ]
    },
    {
     "name": "stderr",
     "output_type": "stream",
     "text": [
      "Epoch 6: 100%|██████████| 10/10 [00:02<00:00,  4.90it/s]\n"
     ]
    },
    {
     "name": "stdout",
     "output_type": "stream",
     "text": [
      "Epoch 6 - Train acc: 0.62, Val acc: 0.618\n"
     ]
    },
    {
     "name": "stderr",
     "output_type": "stream",
     "text": [
      "Epoch 7: 100%|██████████| 10/10 [00:02<00:00,  4.00it/s]\n"
     ]
    },
    {
     "name": "stdout",
     "output_type": "stream",
     "text": [
      "Epoch 7 - Train acc: 0.6905, Val acc: 0.676\n"
     ]
    },
    {
     "name": "stderr",
     "output_type": "stream",
     "text": [
      "Epoch 8: 100%|██████████| 10/10 [00:02<00:00,  3.94it/s]\n"
     ]
    },
    {
     "name": "stdout",
     "output_type": "stream",
     "text": [
      "Epoch 8 - Train acc: 0.7255, Val acc: 0.696\n"
     ]
    },
    {
     "name": "stderr",
     "output_type": "stream",
     "text": [
      "Epoch 9: 100%|██████████| 10/10 [00:02<00:00,  4.01it/s]\n"
     ]
    },
    {
     "name": "stdout",
     "output_type": "stream",
     "text": [
      "Epoch 9 - Train acc: 0.735, Val acc: 0.734\n"
     ]
    },
    {
     "name": "stderr",
     "output_type": "stream",
     "text": [
      "Epoch 10: 100%|██████████| 10/10 [00:02<00:00,  4.98it/s]\n"
     ]
    },
    {
     "name": "stdout",
     "output_type": "stream",
     "text": [
      "Epoch 10 - Train acc: 0.741, Val acc: 0.734\n"
     ]
    },
    {
     "name": "stderr",
     "output_type": "stream",
     "text": [
      "Epoch 11: 100%|██████████| 10/10 [00:02<00:00,  4.20it/s]\n"
     ]
    },
    {
     "name": "stdout",
     "output_type": "stream",
     "text": [
      "Epoch 11 - Train acc: 0.761, Val acc: 0.76\n"
     ]
    },
    {
     "name": "stderr",
     "output_type": "stream",
     "text": [
      "Epoch 12: 100%|██████████| 10/10 [00:02<00:00,  4.55it/s]\n"
     ]
    },
    {
     "name": "stdout",
     "output_type": "stream",
     "text": [
      "Epoch 12 - Train acc: 0.7695, Val acc: 0.768\n"
     ]
    },
    {
     "name": "stderr",
     "output_type": "stream",
     "text": [
      "Epoch 13: 100%|██████████| 10/10 [00:02<00:00,  3.95it/s]\n"
     ]
    },
    {
     "name": "stdout",
     "output_type": "stream",
     "text": [
      "Epoch 13 - Train acc: 0.7885, Val acc: 0.812\n"
     ]
    },
    {
     "name": "stderr",
     "output_type": "stream",
     "text": [
      "Epoch 14: 100%|██████████| 10/10 [00:02<00:00,  4.60it/s]\n"
     ]
    },
    {
     "name": "stdout",
     "output_type": "stream",
     "text": [
      "Epoch 14 - Train acc: 0.792, Val acc: 0.792\n"
     ]
    },
    {
     "name": "stderr",
     "output_type": "stream",
     "text": [
      "Epoch 15: 100%|██████████| 10/10 [00:02<00:00,  3.94it/s]\n"
     ]
    },
    {
     "name": "stdout",
     "output_type": "stream",
     "text": [
      "Epoch 15 - Train acc: 0.791, Val acc: 0.796\n"
     ]
    },
    {
     "name": "stderr",
     "output_type": "stream",
     "text": [
      "Epoch 16: 100%|██████████| 10/10 [00:02<00:00,  4.71it/s]\n"
     ]
    },
    {
     "name": "stdout",
     "output_type": "stream",
     "text": [
      "Epoch 16 - Train acc: 0.7835, Val acc: 0.778\n"
     ]
    },
    {
     "name": "stderr",
     "output_type": "stream",
     "text": [
      "Epoch 17: 100%|██████████| 10/10 [00:01<00:00,  5.08it/s]\n"
     ]
    },
    {
     "name": "stdout",
     "output_type": "stream",
     "text": [
      "Epoch 17 - Train acc: 0.805, Val acc: 0.8\n"
     ]
    },
    {
     "name": "stderr",
     "output_type": "stream",
     "text": [
      "Epoch 18: 100%|██████████| 10/10 [00:02<00:00,  4.06it/s]\n"
     ]
    },
    {
     "name": "stdout",
     "output_type": "stream",
     "text": [
      "Epoch 18 - Train acc: 0.806, Val acc: 0.812\n"
     ]
    },
    {
     "name": "stderr",
     "output_type": "stream",
     "text": [
      "Epoch 19: 100%|██████████| 10/10 [00:02<00:00,  3.88it/s]\n"
     ]
    },
    {
     "name": "stdout",
     "output_type": "stream",
     "text": [
      "Epoch 19 - Train acc: 0.8065, Val acc: 0.814\n"
     ]
    },
    {
     "name": "stderr",
     "output_type": "stream",
     "text": [
      "Epoch 20: 100%|██████████| 10/10 [00:02<00:00,  4.94it/s]\n"
     ]
    },
    {
     "name": "stdout",
     "output_type": "stream",
     "text": [
      "Epoch 20 - Train acc: 0.817, Val acc: 0.818\n"
     ]
    },
    {
     "name": "stderr",
     "output_type": "stream",
     "text": [
      "Epoch 21: 100%|██████████| 10/10 [00:02<00:00,  4.03it/s]\n"
     ]
    },
    {
     "name": "stdout",
     "output_type": "stream",
     "text": [
      "Epoch 21 - Train acc: 0.8175, Val acc: 0.818\n"
     ]
    },
    {
     "name": "stderr",
     "output_type": "stream",
     "text": [
      "Epoch 22: 100%|██████████| 10/10 [00:02<00:00,  4.67it/s]\n"
     ]
    },
    {
     "name": "stdout",
     "output_type": "stream",
     "text": [
      "Epoch 22 - Train acc: 0.8235, Val acc: 0.826\n"
     ]
    },
    {
     "name": "stderr",
     "output_type": "stream",
     "text": [
      "Epoch 23: 100%|██████████| 10/10 [00:02<00:00,  4.03it/s]\n"
     ]
    },
    {
     "name": "stdout",
     "output_type": "stream",
     "text": [
      "Epoch 23 - Train acc: 0.818, Val acc: 0.81\n"
     ]
    },
    {
     "name": "stderr",
     "output_type": "stream",
     "text": [
      "Epoch 24: 100%|██████████| 10/10 [00:02<00:00,  4.10it/s]\n"
     ]
    },
    {
     "name": "stdout",
     "output_type": "stream",
     "text": [
      "Epoch 24 - Train acc: 0.8165, Val acc: 0.81\n"
     ]
    },
    {
     "name": "stderr",
     "output_type": "stream",
     "text": [
      "Epoch 25: 100%|██████████| 10/10 [00:02<00:00,  4.69it/s]\n"
     ]
    },
    {
     "name": "stdout",
     "output_type": "stream",
     "text": [
      "Epoch 25 - Train acc: 0.8205, Val acc: 0.802\n"
     ]
    },
    {
     "name": "stderr",
     "output_type": "stream",
     "text": [
      "Epoch 26: 100%|██████████| 10/10 [00:02<00:00,  3.97it/s]\n"
     ]
    },
    {
     "name": "stdout",
     "output_type": "stream",
     "text": [
      "Epoch 26 - Train acc: 0.827, Val acc: 0.822\n"
     ]
    },
    {
     "name": "stderr",
     "output_type": "stream",
     "text": [
      "Epoch 27: 100%|██████████| 10/10 [00:02<00:00,  4.94it/s]\n"
     ]
    },
    {
     "name": "stdout",
     "output_type": "stream",
     "text": [
      "Epoch 27 - Train acc: 0.8205, Val acc: 0.802\n"
     ]
    },
    {
     "name": "stderr",
     "output_type": "stream",
     "text": [
      "Epoch 28: 100%|██████████| 10/10 [00:02<00:00,  4.14it/s]\n"
     ]
    },
    {
     "name": "stdout",
     "output_type": "stream",
     "text": [
      "Epoch 28 - Train acc: 0.834, Val acc: 0.824\n"
     ]
    },
    {
     "name": "stderr",
     "output_type": "stream",
     "text": [
      "Epoch 29: 100%|██████████| 10/10 [00:02<00:00,  4.57it/s]\n"
     ]
    },
    {
     "name": "stdout",
     "output_type": "stream",
     "text": [
      "Epoch 29 - Train acc: 0.834, Val acc: 0.81\n"
     ]
    },
    {
     "name": "stderr",
     "output_type": "stream",
     "text": [
      "Epoch 30: 100%|██████████| 10/10 [00:02<00:00,  4.67it/s]\n"
     ]
    },
    {
     "name": "stdout",
     "output_type": "stream",
     "text": [
      "Epoch 30 - Train acc: 0.8205, Val acc: 0.814\n"
     ]
    },
    {
     "name": "stderr",
     "output_type": "stream",
     "text": [
      "Epoch 31: 100%|██████████| 10/10 [00:02<00:00,  4.00it/s]\n"
     ]
    },
    {
     "name": "stdout",
     "output_type": "stream",
     "text": [
      "Epoch 31 - Train acc: 0.8185, Val acc: 0.802\n"
     ]
    },
    {
     "name": "stderr",
     "output_type": "stream",
     "text": [
      "Epoch 32: 100%|██████████| 10/10 [00:02<00:00,  3.99it/s]\n"
     ]
    },
    {
     "name": "stdout",
     "output_type": "stream",
     "text": [
      "Epoch 32 - Train acc: 0.8345, Val acc: 0.82\n"
     ]
    },
    {
     "name": "stderr",
     "output_type": "stream",
     "text": [
      "Epoch 33: 100%|██████████| 10/10 [00:02<00:00,  4.59it/s]\n"
     ]
    },
    {
     "name": "stdout",
     "output_type": "stream",
     "text": [
      "Epoch 33 - Train acc: 0.8295, Val acc: 0.824\n"
     ]
    },
    {
     "name": "stderr",
     "output_type": "stream",
     "text": [
      "Epoch 34: 100%|██████████| 10/10 [00:02<00:00,  4.31it/s]\n"
     ]
    },
    {
     "name": "stdout",
     "output_type": "stream",
     "text": [
      "Epoch 34 - Train acc: 0.837, Val acc: 0.824\n"
     ]
    },
    {
     "name": "stderr",
     "output_type": "stream",
     "text": [
      "Epoch 35: 100%|██████████| 10/10 [00:02<00:00,  4.86it/s]\n"
     ]
    },
    {
     "name": "stdout",
     "output_type": "stream",
     "text": [
      "Epoch 35 - Train acc: 0.838, Val acc: 0.804\n"
     ]
    },
    {
     "name": "stderr",
     "output_type": "stream",
     "text": [
      "Epoch 36: 100%|██████████| 10/10 [00:01<00:00,  5.93it/s]\n"
     ]
    },
    {
     "name": "stdout",
     "output_type": "stream",
     "text": [
      "Epoch 36 - Train acc: 0.8215, Val acc: 0.796\n"
     ]
    },
    {
     "name": "stderr",
     "output_type": "stream",
     "text": [
      "Epoch 37: 100%|██████████| 10/10 [00:01<00:00,  5.99it/s]\n"
     ]
    },
    {
     "name": "stdout",
     "output_type": "stream",
     "text": [
      "Epoch 37 - Train acc: 0.835, Val acc: 0.808\n"
     ]
    },
    {
     "name": "stderr",
     "output_type": "stream",
     "text": [
      "Epoch 38: 100%|██████████| 10/10 [00:01<00:00,  5.86it/s]\n"
     ]
    },
    {
     "name": "stdout",
     "output_type": "stream",
     "text": [
      "Epoch 38 - Train acc: 0.8405, Val acc: 0.812\n"
     ]
    },
    {
     "name": "stderr",
     "output_type": "stream",
     "text": [
      "Epoch 39: 100%|██████████| 10/10 [00:01<00:00,  5.63it/s]\n"
     ]
    },
    {
     "name": "stdout",
     "output_type": "stream",
     "text": [
      "Epoch 39 - Train acc: 0.839, Val acc: 0.87\n"
     ]
    },
    {
     "name": "stderr",
     "output_type": "stream",
     "text": [
      "Epoch 40: 100%|██████████| 10/10 [00:01<00:00,  5.86it/s]\n"
     ]
    },
    {
     "name": "stdout",
     "output_type": "stream",
     "text": [
      "Epoch 40 - Train acc: 0.8485, Val acc: 0.848\n"
     ]
    },
    {
     "name": "stderr",
     "output_type": "stream",
     "text": [
      "Epoch 41: 100%|██████████| 10/10 [00:01<00:00,  5.98it/s]\n"
     ]
    },
    {
     "name": "stdout",
     "output_type": "stream",
     "text": [
      "Epoch 41 - Train acc: 0.8505, Val acc: 0.848\n"
     ]
    },
    {
     "name": "stderr",
     "output_type": "stream",
     "text": [
      "Epoch 42: 100%|██████████| 10/10 [00:01<00:00,  5.79it/s]\n"
     ]
    },
    {
     "name": "stdout",
     "output_type": "stream",
     "text": [
      "Epoch 42 - Train acc: 0.848, Val acc: 0.848\n"
     ]
    },
    {
     "name": "stderr",
     "output_type": "stream",
     "text": [
      "Epoch 43: 100%|██████████| 10/10 [00:01<00:00,  5.90it/s]\n"
     ]
    },
    {
     "name": "stdout",
     "output_type": "stream",
     "text": [
      "Epoch 43 - Train acc: 0.8425, Val acc: 0.86\n"
     ]
    },
    {
     "name": "stderr",
     "output_type": "stream",
     "text": [
      "Epoch 44: 100%|██████████| 10/10 [00:01<00:00,  6.00it/s]\n"
     ]
    },
    {
     "name": "stdout",
     "output_type": "stream",
     "text": [
      "Epoch 44 - Train acc: 0.844, Val acc: 0.852\n"
     ]
    },
    {
     "name": "stderr",
     "output_type": "stream",
     "text": [
      "Epoch 45: 100%|██████████| 10/10 [00:01<00:00,  5.87it/s]\n"
     ]
    },
    {
     "name": "stdout",
     "output_type": "stream",
     "text": [
      "Epoch 45 - Train acc: 0.8355, Val acc: 0.84\n"
     ]
    },
    {
     "name": "stderr",
     "output_type": "stream",
     "text": [
      "Epoch 46: 100%|██████████| 10/10 [00:01<00:00,  5.89it/s]\n"
     ]
    },
    {
     "name": "stdout",
     "output_type": "stream",
     "text": [
      "Epoch 46 - Train acc: 0.828, Val acc: 0.84\n"
     ]
    },
    {
     "name": "stderr",
     "output_type": "stream",
     "text": [
      "Epoch 47: 100%|██████████| 10/10 [00:01<00:00,  5.98it/s]\n"
     ]
    },
    {
     "name": "stdout",
     "output_type": "stream",
     "text": [
      "Epoch 47 - Train acc: 0.838, Val acc: 0.83\n"
     ]
    },
    {
     "name": "stderr",
     "output_type": "stream",
     "text": [
      "Epoch 48: 100%|██████████| 10/10 [00:01<00:00,  6.02it/s]\n"
     ]
    },
    {
     "name": "stdout",
     "output_type": "stream",
     "text": [
      "Epoch 48 - Train acc: 0.843, Val acc: 0.854\n"
     ]
    },
    {
     "name": "stderr",
     "output_type": "stream",
     "text": [
      "Epoch 49: 100%|██████████| 10/10 [00:01<00:00,  5.87it/s]\n"
     ]
    },
    {
     "name": "stdout",
     "output_type": "stream",
     "text": [
      "Epoch 49 - Train acc: 0.848, Val acc: 0.838\n"
     ]
    },
    {
     "name": "stderr",
     "output_type": "stream",
     "text": [
      "Epoch 50: 100%|██████████| 10/10 [00:01<00:00,  5.81it/s]\n"
     ]
    },
    {
     "name": "stdout",
     "output_type": "stream",
     "text": [
      "Epoch 50 - Train acc: 0.842, Val acc: 0.834\n",
      "Test accuracy: 0.839\n"
     ]
    },
    {
     "data": {
      "image/png": "[encoded data removed]",
      "text/plain": [
       "<Figure size 640x480 with 1 Axes>"
      ]
     },
     "metadata": {},
     "output_type": "display_data"
    }
   ],
   "source": [
    "epochs = 50\n",
    "batch_size = 1024\n",
    "train_loader = torch.utils.data.DataLoader(train_dataset, batch_size=batch_size, shuffle=True)\n",
    "\n",
    "CE_loss = nn.CrossEntropyLoss()\n",
    "loss_fn = lambda output, _target: CE_loss(output, _target)\n",
    "\n",
    "best_val_acc = 0\n",
    "best_model = copy.deepcopy(pc_reversed.state_dict())\n",
    "\n",
    "train_acc = [test_reversed(pc_reversed, test_dataset)]\n",
    "val_acc = [test_reversed(pc_reversed, val_dataset)]\n",
    "for epoch in range(epochs):\n",
    "    for data, label in tqdm(train_loader, desc=f'Epoch {epoch+1}'):\n",
    "        data, label = data.to(device), label.to(device)\n",
    "        trainer_reversed.train_on_batch(inputs=data, loss_fn=loss_fn, loss_fn_kwargs={'_target':label}, is_log_progress=False, is_return_results_every_t=False, is_checking_after_callback_after_t=False)\n",
    "    train_acc.append(test_reversed(pc_reversed, test_dataset))\n",
    "    val_acc.append(test_reversed(pc_reversed, val_dataset))\n",
    "    if val_acc[-1] > best_val_acc:\n",
    "        best_val_acc = val_acc[-1]\n",
    "        best_model = copy.deepcopy(pc_reversed.state_dict())\n",
    "    print(f'Epoch {epoch+1} - Train acc: {train_acc[-1]}, Val acc: {val_acc[-1]}')\n",
    "\n",
    "\n",
    "plt.plot(train_acc, label='Train')\n",
    "plt.plot(val_acc, label='Val')\n",
    "plt.legend()\n",
    "plt.xlabel('Epoch')\n",
    "plt.ylabel('Accuracy')\n",
    "plt.title('Reversed PC')\n",
    "    \n",
    "test_model = get_model(input_size, hidden_size, hidden2_size, output_size, activation_fn)\n",
    "test_model.load_state_dict(best_model, strict=False)\n",
    "test_model.to(device)\n",
    "acc_test = test_reversed(test_model, test_dataset)\n",
    "print(f'Test accuracy: {acc_test}')"
   ]
  },
  {
   "cell_type": "markdown",
   "metadata": {},
   "source": [
    "PC normal direction"
   ]
  },
  {
   "cell_type": "code",
   "execution_count": 284,
   "metadata": {},
   "outputs": [],
   "source": [
    "input_size = 10\n",
    "hidden_size = 256\n",
    "hidden2_size = 256\n",
    "output_size = 28*28\n",
    "\n",
    "# activation_fn = nn.ReLU\n",
    "activation_fn = nn.Tanh\n",
    "\n",
    "pc_normal = get_model(input_size, hidden_size, hidden2_size, output_size, activation_fn)\n",
    "pc_normal.train()\n",
    "pc_normal.to(device)\n",
    "\n",
    "def loss_fn_normal(output, _target):\n",
    "    return 0.5*(output - _target).pow(2).sum()"
   ]
  },
  {
   "cell_type": "code",
   "execution_count": 285,
   "metadata": {},
   "outputs": [],
   "source": [
    "T = 20                             # number of inference iterations\n",
    "update_x_at = 'all'                 # update latent state x at every iteration\n",
    "optimizer_x_fn = optim.SGD         # optimizer for latent state x\n",
    "optimizer_x_kwargs = {'lr': 0.01}    # optimizer parameters for latent state x\n",
    "update_p_at = 'last'                # update parameters p at the last iteration\n",
    "optimizer_p_fn = optim.Adam          # optimizer for parameters p\n",
    "optimizer_p_kwargs = {\"lr\": 0.001, \"weight_decay\":0., \"betas\":(0.9,0.999)} # optimizer parameters for parameters p\n",
    "plot_progress_at = []            # plot progress every inference iterations\n",
    "\n",
    "trainer_normal = pc.PCTrainer(pc_normal, \n",
    "    T = T, \n",
    "    update_x_at = update_x_at, \n",
    "    optimizer_x_fn = optimizer_x_fn,\n",
    "    optimizer_x_kwargs = optimizer_x_kwargs,\n",
    "    update_p_at = update_p_at,   \n",
    "    optimizer_p_fn = optimizer_p_fn,\n",
    "    optimizer_p_kwargs = optimizer_p_kwargs,\n",
    "    plot_progress_at= plot_progress_at\n",
    ")\n",
    "\n",
    "# This class contains the parameters of the prior mean \\mu parameter (see figure)\n",
    "class BiasLayer(nn.Module):\n",
    "    def __init__(self, out_features, offset=0.):\n",
    "        super(BiasLayer, self).__init__()\n",
    "        self.bias = nn.Parameter(offset*torch.ones(out_features) if offset is not None else 2*np.sqrt(out_features)*torch.rand(out_features)-np.sqrt(out_features), requires_grad=True)\n",
    "\n",
    "    def forward(self, x):\n",
    "        return torch.zeros_like(x) + self.bias  # return the prior mean \\mu witht the same shape as the input x to make sure the batch size is the same\n",
    "\n",
    "\n",
    "def test_normal(model, dataset, batch_size=1000):\n",
    "    test_loader = torch.utils.data.DataLoader(dataset, batch_size=batch_size, shuffle=False)\n",
    "\n",
    "    # add bias layer for inferece\n",
    "    test_model = nn.Sequential(\n",
    "        BiasLayer(10, offset=0.),\n",
    "        pc.PCLayer(),\n",
    "        model\n",
    "    )\n",
    "    test_model.train()\n",
    "    test_model.to(device)\n",
    "\n",
    "    # make pc_trainer for test_model   \n",
    "    trainer_normal_test = pc.PCTrainer(test_model, \n",
    "        T = 100, \n",
    "        update_x_at = update_x_at, \n",
    "        optimizer_x_fn = optimizer_x_fn,\n",
    "        optimizer_x_kwargs = optimizer_x_kwargs,\n",
    "        update_p_at = \"never\",   \n",
    "        optimizer_p_fn = optimizer_p_fn,\n",
    "        optimizer_p_kwargs = optimizer_p_kwargs,\n",
    "        plot_progress_at= plot_progress_at\n",
    "    )\n",
    "\n",
    "    correct_count, all_count = 0., 0.\n",
    "    for data, labels in (test_loader):\n",
    "        pseudo_input = torch.zeros(data.shape[0], 10)\n",
    "        data, labels, pseudo_input = data.to(device), labels.to(device), pseudo_input.to(device)\n",
    "        \n",
    "        # MAP inference\n",
    "        trainer_normal_test.train_on_batch(inputs=pseudo_input, loss_fn=loss_fn_normal, loss_fn_kwargs={'_target':data}, is_log_progress=False, is_return_results_every_t=False, is_checking_after_callback_after_t=False)\n",
    "        pred = torch.max(test_model[1].get_x(), dim=1)\n",
    "        correct = (pred.indices == labels).long()\n",
    "        correct_count += correct.sum()\n",
    "        all_count += correct.size(0)\n",
    "    return round((correct_count / all_count).item(), 4)"
   ]
  },
  {
   "cell_type": "code",
   "execution_count": 286,
   "metadata": {},
   "outputs": [
    {
     "name": "stderr",
     "output_type": "stream",
     "text": [
      "Epoch 1: 100%|██████████| 20/20 [00:02<00:00,  8.74it/s]\n"
     ]
    },
    {
     "name": "stdout",
     "output_type": "stream",
     "text": [
      "Epoch 1 - Train acc: 0.7645, Val acc: 0.738\n"
     ]
    },
    {
     "name": "stderr",
     "output_type": "stream",
     "text": [
      "Epoch 2: 100%|██████████| 20/20 [00:02<00:00,  8.83it/s]\n"
     ]
    },
    {
     "name": "stdout",
     "output_type": "stream",
     "text": [
      "Epoch 2 - Train acc: 0.8115, Val acc: 0.764\n"
     ]
    },
    {
     "name": "stderr",
     "output_type": "stream",
     "text": [
      "Epoch 3: 100%|██████████| 20/20 [00:02<00:00,  8.99it/s]\n"
     ]
    },
    {
     "name": "stdout",
     "output_type": "stream",
     "text": [
      "Epoch 3 - Train acc: 0.838, Val acc: 0.788\n"
     ]
    },
    {
     "name": "stderr",
     "output_type": "stream",
     "text": [
      "Epoch 4: 100%|██████████| 20/20 [00:02<00:00,  8.66it/s]\n"
     ]
    },
    {
     "name": "stdout",
     "output_type": "stream",
     "text": [
      "Epoch 4 - Train acc: 0.8405, Val acc: 0.794\n"
     ]
    },
    {
     "name": "stderr",
     "output_type": "stream",
     "text": [
      "Epoch 5: 100%|██████████| 20/20 [00:02<00:00,  8.75it/s]\n"
     ]
    },
    {
     "name": "stdout",
     "output_type": "stream",
     "text": [
      "Epoch 5 - Train acc: 0.859, Val acc: 0.806\n"
     ]
    },
    {
     "name": "stderr",
     "output_type": "stream",
     "text": [
      "Epoch 6: 100%|██████████| 20/20 [00:02<00:00,  9.09it/s]\n"
     ]
    },
    {
     "name": "stdout",
     "output_type": "stream",
     "text": [
      "Epoch 6 - Train acc: 0.8545, Val acc: 0.802\n"
     ]
    },
    {
     "name": "stderr",
     "output_type": "stream",
     "text": [
      "Epoch 7: 100%|██████████| 20/20 [00:02<00:00,  9.16it/s]\n"
     ]
    },
    {
     "name": "stdout",
     "output_type": "stream",
     "text": [
      "Epoch 7 - Train acc: 0.8585, Val acc: 0.812\n"
     ]
    },
    {
     "name": "stderr",
     "output_type": "stream",
     "text": [
      "Epoch 8: 100%|██████████| 20/20 [00:02<00:00,  9.05it/s]\n"
     ]
    },
    {
     "name": "stdout",
     "output_type": "stream",
     "text": [
      "Epoch 8 - Train acc: 0.858, Val acc: 0.81\n"
     ]
    },
    {
     "name": "stderr",
     "output_type": "stream",
     "text": [
      "Epoch 9: 100%|██████████| 20/20 [00:02<00:00,  8.81it/s]\n"
     ]
    },
    {
     "name": "stdout",
     "output_type": "stream",
     "text": [
      "Epoch 9 - Train acc: 0.8595, Val acc: 0.802\n"
     ]
    },
    {
     "name": "stderr",
     "output_type": "stream",
     "text": [
      "Epoch 10: 100%|██████████| 20/20 [00:02<00:00,  8.96it/s]\n"
     ]
    },
    {
     "name": "stdout",
     "output_type": "stream",
     "text": [
      "Epoch 10 - Train acc: 0.852, Val acc: 0.806\n",
      "Test accuracy: 0.8585\n"
     ]
    },
    {
     "data": {
      "image/png": "[encoded data removed]",
      "text/plain": [
       "<Figure size 640x480 with 1 Axes>"
      ]
     },
     "metadata": {},
     "output_type": "display_data"
    }
   ],
   "source": [
    "epochs = 10\n",
    "batch_size = 500\n",
    "train_loader = torch.utils.data.DataLoader(train_dataset, batch_size=batch_size, shuffle=True)\n",
    "\n",
    "best_val_acc = 0\n",
    "best_model = copy.deepcopy(pc_normal.state_dict())\n",
    "\n",
    "train_acc = [test_normal(pc_normal, test_dataset)]\n",
    "val_acc = [test_normal(pc_normal, val_dataset)]\n",
    "for epoch in range(epochs):\n",
    "    for data, label in tqdm(train_loader, desc=f'Epoch {epoch+1}'):\n",
    "        data, label = data.to(device), label.to(device)\n",
    "        # labels to one-hot\n",
    "        labels_one_hot = F.one_hot(label).float()\n",
    "        trainer_normal.train_on_batch(inputs=labels_one_hot, loss_fn=loss_fn_normal, loss_fn_kwargs={'_target':data}, is_log_progress=False, is_return_results_every_t=False, is_checking_after_callback_after_t=False)\n",
    "    train_acc.append(test_normal(pc_normal, test_dataset))\n",
    "    val_acc.append(test_normal(pc_normal, val_dataset))\n",
    "    if val_acc[-1] > best_val_acc:\n",
    "        best_val_acc = val_acc[-1]\n",
    "        best_model = copy.deepcopy(pc_normal.state_dict())\n",
    "    print(f'Epoch {epoch+1} - Train acc: {train_acc[-1]}, Val acc: {val_acc[-1]}')\n",
    "\n",
    "\n",
    "plt.plot(train_acc, label='Train')\n",
    "plt.plot(val_acc, label='Val')\n",
    "plt.legend()\n",
    "plt.xlabel('Epoch')\n",
    "plt.ylabel('Accuracy')\n",
    "plt.title('Normal PC')\n",
    "    \n",
    "test_model = get_model(input_size, hidden_size, hidden2_size, output_size, activation_fn)\n",
    "test_model.train()\n",
    "test_model.load_state_dict(best_model, strict=False)\n",
    "test_model.to(device)\n",
    "acc_test = test_normal(test_model, test_dataset)\n",
    "print(f'Test accuracy: {acc_test}')"
   ]
  },
  {
   "cell_type": "markdown",
   "metadata": {},
   "source": [
    "V -model"
   ]
  },
  {
   "cell_type": "code",
   "execution_count": 403,
   "metadata": {},
   "outputs": [],
   "source": []
  },
  {
   "cell_type": "code",
   "execution_count": 404,
   "metadata": {},
   "outputs": [],
   "source": []
  },
  {
   "cell_type": "code",
   "execution_count": 407,
   "metadata": {},
   "outputs": [
    {
     "name": "stderr",
     "output_type": "stream",
     "text": [
      "  0%|          | 0/4 [00:00<?, ?it/s]"
     ]
    },
    {
     "name": "stdout",
     "output_type": "stream",
     "text": [
      "Best val acc: 0.176, Best params: {\"lr_x\": lr_x_, \"lr_p\": lr_p_, \"weight_decay\": weight_decay_}\n"
     ]
    },
    {
     "name": "stderr",
     "output_type": "stream",
     "text": [
      "  0%|          | 0/4 [03:55<?, ?it/s]\n"
     ]
    },
    {
     "ename": "KeyboardInterrupt",
     "evalue": "",
     "output_type": "error",
     "traceback": [
      "\u001b[1;31m---------------------------------------------------------------------------\u001b[0m",
      "\u001b[1;31mKeyboardInterrupt\u001b[0m                         Traceback (most recent call last)",
      "Cell \u001b[1;32mIn[407], line 118\u001b[0m\n\u001b[0;32m    116\u001b[0m val_acc \u001b[38;5;241m=\u001b[39m [test_v_model(pc_v_model, val_dataset)]\n\u001b[0;32m    117\u001b[0m \u001b[38;5;28;01mfor\u001b[39;00m epoch \u001b[38;5;129;01min\u001b[39;00m \u001b[38;5;28mrange\u001b[39m(epochs):\n\u001b[1;32m--> 118\u001b[0m     \u001b[38;5;28;01mfor\u001b[39;00m data, labels \u001b[38;5;129;01min\u001b[39;00m train_loader:\n\u001b[0;32m    119\u001b[0m         pseudo_input \u001b[38;5;241m=\u001b[39m torch\u001b[38;5;241m.\u001b[39mzeros(data\u001b[38;5;241m.\u001b[39mshape[\u001b[38;5;241m0\u001b[39m], latent_size)\n\u001b[0;32m    120\u001b[0m         data, labels, pseudo_input \u001b[38;5;241m=\u001b[39m data\u001b[38;5;241m.\u001b[39mto(device), labels\u001b[38;5;241m.\u001b[39mto(device), pseudo_input\u001b[38;5;241m.\u001b[39mto(device)\n",
      "File \u001b[1;32mc:\\Users\\olivi\\miniconda3\\envs\\pytorch\\lib\\site-packages\\torch\\utils\\data\\dataloader.py:628\u001b[0m, in \u001b[0;36m_BaseDataLoaderIter.__next__\u001b[1;34m(self)\u001b[0m\n\u001b[0;32m    625\u001b[0m \u001b[38;5;28;01mif\u001b[39;00m \u001b[38;5;28mself\u001b[39m\u001b[38;5;241m.\u001b[39m_sampler_iter \u001b[38;5;129;01mis\u001b[39;00m \u001b[38;5;28;01mNone\u001b[39;00m:\n\u001b[0;32m    626\u001b[0m     \u001b[38;5;66;03m# TODO(https://github.com/pytorch/pytorch/issues/76750)\u001b[39;00m\n\u001b[0;32m    627\u001b[0m     \u001b[38;5;28mself\u001b[39m\u001b[38;5;241m.\u001b[39m_reset()  \u001b[38;5;66;03m# type: ignore[call-arg]\u001b[39;00m\n\u001b[1;32m--> 628\u001b[0m data \u001b[38;5;241m=\u001b[39m \u001b[38;5;28;43mself\u001b[39;49m\u001b[38;5;241;43m.\u001b[39;49m\u001b[43m_next_data\u001b[49m\u001b[43m(\u001b[49m\u001b[43m)\u001b[49m\n\u001b[0;32m    629\u001b[0m \u001b[38;5;28mself\u001b[39m\u001b[38;5;241m.\u001b[39m_num_yielded \u001b[38;5;241m+\u001b[39m\u001b[38;5;241m=\u001b[39m \u001b[38;5;241m1\u001b[39m\n\u001b[0;32m    630\u001b[0m \u001b[38;5;28;01mif\u001b[39;00m \u001b[38;5;28mself\u001b[39m\u001b[38;5;241m.\u001b[39m_dataset_kind \u001b[38;5;241m==\u001b[39m _DatasetKind\u001b[38;5;241m.\u001b[39mIterable \u001b[38;5;129;01mand\u001b[39;00m \\\n\u001b[0;32m    631\u001b[0m         \u001b[38;5;28mself\u001b[39m\u001b[38;5;241m.\u001b[39m_IterableDataset_len_called \u001b[38;5;129;01mis\u001b[39;00m \u001b[38;5;129;01mnot\u001b[39;00m \u001b[38;5;28;01mNone\u001b[39;00m \u001b[38;5;129;01mand\u001b[39;00m \\\n\u001b[0;32m    632\u001b[0m         \u001b[38;5;28mself\u001b[39m\u001b[38;5;241m.\u001b[39m_num_yielded \u001b[38;5;241m>\u001b[39m \u001b[38;5;28mself\u001b[39m\u001b[38;5;241m.\u001b[39m_IterableDataset_len_called:\n",
      "File \u001b[1;32mc:\\Users\\olivi\\miniconda3\\envs\\pytorch\\lib\\site-packages\\torch\\utils\\data\\dataloader.py:671\u001b[0m, in \u001b[0;36m_SingleProcessDataLoaderIter._next_data\u001b[1;34m(self)\u001b[0m\n\u001b[0;32m    669\u001b[0m \u001b[38;5;28;01mdef\u001b[39;00m \u001b[38;5;21m_next_data\u001b[39m(\u001b[38;5;28mself\u001b[39m):\n\u001b[0;32m    670\u001b[0m     index \u001b[38;5;241m=\u001b[39m \u001b[38;5;28mself\u001b[39m\u001b[38;5;241m.\u001b[39m_next_index()  \u001b[38;5;66;03m# may raise StopIteration\u001b[39;00m\n\u001b[1;32m--> 671\u001b[0m     data \u001b[38;5;241m=\u001b[39m \u001b[38;5;28;43mself\u001b[39;49m\u001b[38;5;241;43m.\u001b[39;49m\u001b[43m_dataset_fetcher\u001b[49m\u001b[38;5;241;43m.\u001b[39;49m\u001b[43mfetch\u001b[49m\u001b[43m(\u001b[49m\u001b[43mindex\u001b[49m\u001b[43m)\u001b[49m  \u001b[38;5;66;03m# may raise StopIteration\u001b[39;00m\n\u001b[0;32m    672\u001b[0m     \u001b[38;5;28;01mif\u001b[39;00m \u001b[38;5;28mself\u001b[39m\u001b[38;5;241m.\u001b[39m_pin_memory:\n\u001b[0;32m    673\u001b[0m         data \u001b[38;5;241m=\u001b[39m _utils\u001b[38;5;241m.\u001b[39mpin_memory\u001b[38;5;241m.\u001b[39mpin_memory(data, \u001b[38;5;28mself\u001b[39m\u001b[38;5;241m.\u001b[39m_pin_memory_device)\n",
      "File \u001b[1;32mc:\\Users\\olivi\\miniconda3\\envs\\pytorch\\lib\\site-packages\\torch\\utils\\data\\_utils\\fetch.py:58\u001b[0m, in \u001b[0;36m_MapDatasetFetcher.fetch\u001b[1;34m(self, possibly_batched_index)\u001b[0m\n\u001b[0;32m     56\u001b[0m         data \u001b[38;5;241m=\u001b[39m \u001b[38;5;28mself\u001b[39m\u001b[38;5;241m.\u001b[39mdataset\u001b[38;5;241m.\u001b[39m__getitems__(possibly_batched_index)\n\u001b[0;32m     57\u001b[0m     \u001b[38;5;28;01melse\u001b[39;00m:\n\u001b[1;32m---> 58\u001b[0m         data \u001b[38;5;241m=\u001b[39m [\u001b[38;5;28mself\u001b[39m\u001b[38;5;241m.\u001b[39mdataset[idx] \u001b[38;5;28;01mfor\u001b[39;00m idx \u001b[38;5;129;01min\u001b[39;00m possibly_batched_index]\n\u001b[0;32m     59\u001b[0m \u001b[38;5;28;01melse\u001b[39;00m:\n\u001b[0;32m     60\u001b[0m     data \u001b[38;5;241m=\u001b[39m \u001b[38;5;28mself\u001b[39m\u001b[38;5;241m.\u001b[39mdataset[possibly_batched_index]\n",
      "File \u001b[1;32mc:\\Users\\olivi\\miniconda3\\envs\\pytorch\\lib\\site-packages\\torch\\utils\\data\\_utils\\fetch.py:58\u001b[0m, in \u001b[0;36m<listcomp>\u001b[1;34m(.0)\u001b[0m\n\u001b[0;32m     56\u001b[0m         data \u001b[38;5;241m=\u001b[39m \u001b[38;5;28mself\u001b[39m\u001b[38;5;241m.\u001b[39mdataset\u001b[38;5;241m.\u001b[39m__getitems__(possibly_batched_index)\n\u001b[0;32m     57\u001b[0m     \u001b[38;5;28;01melse\u001b[39;00m:\n\u001b[1;32m---> 58\u001b[0m         data \u001b[38;5;241m=\u001b[39m [\u001b[38;5;28;43mself\u001b[39;49m\u001b[38;5;241;43m.\u001b[39;49m\u001b[43mdataset\u001b[49m\u001b[43m[\u001b[49m\u001b[43midx\u001b[49m\u001b[43m]\u001b[49m \u001b[38;5;28;01mfor\u001b[39;00m idx \u001b[38;5;129;01min\u001b[39;00m possibly_batched_index]\n\u001b[0;32m     59\u001b[0m \u001b[38;5;28;01melse\u001b[39;00m:\n\u001b[0;32m     60\u001b[0m     data \u001b[38;5;241m=\u001b[39m \u001b[38;5;28mself\u001b[39m\u001b[38;5;241m.\u001b[39mdataset[possibly_batched_index]\n",
      "File \u001b[1;32mc:\\Users\\olivi\\miniconda3\\envs\\pytorch\\lib\\site-packages\\torch\\utils\\data\\dataset.py:295\u001b[0m, in \u001b[0;36mSubset.__getitem__\u001b[1;34m(self, idx)\u001b[0m\n\u001b[0;32m    293\u001b[0m \u001b[38;5;28;01mif\u001b[39;00m \u001b[38;5;28misinstance\u001b[39m(idx, \u001b[38;5;28mlist\u001b[39m):\n\u001b[0;32m    294\u001b[0m     \u001b[38;5;28;01mreturn\u001b[39;00m \u001b[38;5;28mself\u001b[39m\u001b[38;5;241m.\u001b[39mdataset[[\u001b[38;5;28mself\u001b[39m\u001b[38;5;241m.\u001b[39mindices[i] \u001b[38;5;28;01mfor\u001b[39;00m i \u001b[38;5;129;01min\u001b[39;00m idx]]\n\u001b[1;32m--> 295\u001b[0m \u001b[38;5;28;01mreturn\u001b[39;00m \u001b[38;5;28;43mself\u001b[39;49m\u001b[38;5;241;43m.\u001b[39;49m\u001b[43mdataset\u001b[49m\u001b[43m[\u001b[49m\u001b[38;5;28;43mself\u001b[39;49m\u001b[38;5;241;43m.\u001b[39;49m\u001b[43mindices\u001b[49m\u001b[43m[\u001b[49m\u001b[43midx\u001b[49m\u001b[43m]\u001b[49m\u001b[43m]\u001b[49m\n",
      "File \u001b[1;32mc:\\Users\\olivi\\miniconda3\\envs\\pytorch\\lib\\site-packages\\torchvision\\datasets\\mnist.py:145\u001b[0m, in \u001b[0;36mMNIST.__getitem__\u001b[1;34m(self, index)\u001b[0m\n\u001b[0;32m    142\u001b[0m img \u001b[38;5;241m=\u001b[39m Image\u001b[38;5;241m.\u001b[39mfromarray(img\u001b[38;5;241m.\u001b[39mnumpy(), mode\u001b[38;5;241m=\u001b[39m\u001b[38;5;124m\"\u001b[39m\u001b[38;5;124mL\u001b[39m\u001b[38;5;124m\"\u001b[39m)\n\u001b[0;32m    144\u001b[0m \u001b[38;5;28;01mif\u001b[39;00m \u001b[38;5;28mself\u001b[39m\u001b[38;5;241m.\u001b[39mtransform \u001b[38;5;129;01mis\u001b[39;00m \u001b[38;5;129;01mnot\u001b[39;00m \u001b[38;5;28;01mNone\u001b[39;00m:\n\u001b[1;32m--> 145\u001b[0m     img \u001b[38;5;241m=\u001b[39m \u001b[38;5;28;43mself\u001b[39;49m\u001b[38;5;241;43m.\u001b[39;49m\u001b[43mtransform\u001b[49m\u001b[43m(\u001b[49m\u001b[43mimg\u001b[49m\u001b[43m)\u001b[49m\n\u001b[0;32m    147\u001b[0m \u001b[38;5;28;01mif\u001b[39;00m \u001b[38;5;28mself\u001b[39m\u001b[38;5;241m.\u001b[39mtarget_transform \u001b[38;5;129;01mis\u001b[39;00m \u001b[38;5;129;01mnot\u001b[39;00m \u001b[38;5;28;01mNone\u001b[39;00m:\n\u001b[0;32m    148\u001b[0m     target \u001b[38;5;241m=\u001b[39m \u001b[38;5;28mself\u001b[39m\u001b[38;5;241m.\u001b[39mtarget_transform(target)\n",
      "File \u001b[1;32mc:\\Users\\olivi\\miniconda3\\envs\\pytorch\\lib\\site-packages\\torchvision\\transforms\\transforms.py:95\u001b[0m, in \u001b[0;36mCompose.__call__\u001b[1;34m(self, img)\u001b[0m\n\u001b[0;32m     93\u001b[0m \u001b[38;5;28;01mdef\u001b[39;00m \u001b[38;5;21m__call__\u001b[39m(\u001b[38;5;28mself\u001b[39m, img):\n\u001b[0;32m     94\u001b[0m     \u001b[38;5;28;01mfor\u001b[39;00m t \u001b[38;5;129;01min\u001b[39;00m \u001b[38;5;28mself\u001b[39m\u001b[38;5;241m.\u001b[39mtransforms:\n\u001b[1;32m---> 95\u001b[0m         img \u001b[38;5;241m=\u001b[39m \u001b[43mt\u001b[49m\u001b[43m(\u001b[49m\u001b[43mimg\u001b[49m\u001b[43m)\u001b[49m\n\u001b[0;32m     96\u001b[0m     \u001b[38;5;28;01mreturn\u001b[39;00m img\n",
      "File \u001b[1;32mc:\\Users\\olivi\\miniconda3\\envs\\pytorch\\lib\\site-packages\\torchvision\\transforms\\transforms.py:135\u001b[0m, in \u001b[0;36mToTensor.__call__\u001b[1;34m(self, pic)\u001b[0m\n\u001b[0;32m    127\u001b[0m \u001b[38;5;28;01mdef\u001b[39;00m \u001b[38;5;21m__call__\u001b[39m(\u001b[38;5;28mself\u001b[39m, pic):\n\u001b[0;32m    128\u001b[0m \u001b[38;5;250m    \u001b[39m\u001b[38;5;124;03m\"\"\"\u001b[39;00m\n\u001b[0;32m    129\u001b[0m \u001b[38;5;124;03m    Args:\u001b[39;00m\n\u001b[0;32m    130\u001b[0m \u001b[38;5;124;03m        pic (PIL Image or numpy.ndarray): Image to be converted to tensor.\u001b[39;00m\n\u001b[1;32m   (...)\u001b[0m\n\u001b[0;32m    133\u001b[0m \u001b[38;5;124;03m        Tensor: Converted image.\u001b[39;00m\n\u001b[0;32m    134\u001b[0m \u001b[38;5;124;03m    \"\"\"\u001b[39;00m\n\u001b[1;32m--> 135\u001b[0m     \u001b[38;5;28;01mreturn\u001b[39;00m \u001b[43mF\u001b[49m\u001b[38;5;241;43m.\u001b[39;49m\u001b[43mto_tensor\u001b[49m\u001b[43m(\u001b[49m\u001b[43mpic\u001b[49m\u001b[43m)\u001b[49m\n",
      "File \u001b[1;32mc:\\Users\\olivi\\miniconda3\\envs\\pytorch\\lib\\site-packages\\torchvision\\transforms\\functional.py:169\u001b[0m, in \u001b[0;36mto_tensor\u001b[1;34m(pic)\u001b[0m\n\u001b[0;32m    167\u001b[0m img \u001b[38;5;241m=\u001b[39m img\u001b[38;5;241m.\u001b[39mview(pic\u001b[38;5;241m.\u001b[39msize[\u001b[38;5;241m1\u001b[39m], pic\u001b[38;5;241m.\u001b[39msize[\u001b[38;5;241m0\u001b[39m], \u001b[38;5;28mlen\u001b[39m(pic\u001b[38;5;241m.\u001b[39mgetbands()))\n\u001b[0;32m    168\u001b[0m \u001b[38;5;66;03m# put it from HWC to CHW format\u001b[39;00m\n\u001b[1;32m--> 169\u001b[0m img \u001b[38;5;241m=\u001b[39m \u001b[43mimg\u001b[49m\u001b[38;5;241;43m.\u001b[39;49m\u001b[43mpermute\u001b[49m\u001b[43m(\u001b[49m\u001b[43m(\u001b[49m\u001b[38;5;241;43m2\u001b[39;49m\u001b[43m,\u001b[49m\u001b[43m \u001b[49m\u001b[38;5;241;43m0\u001b[39;49m\u001b[43m,\u001b[49m\u001b[43m \u001b[49m\u001b[38;5;241;43m1\u001b[39;49m\u001b[43m)\u001b[49m\u001b[43m)\u001b[49m\u001b[38;5;241m.\u001b[39mcontiguous()\n\u001b[0;32m    170\u001b[0m \u001b[38;5;28;01mif\u001b[39;00m \u001b[38;5;28misinstance\u001b[39m(img, torch\u001b[38;5;241m.\u001b[39mByteTensor):\n\u001b[0;32m    171\u001b[0m     \u001b[38;5;28;01mreturn\u001b[39;00m img\u001b[38;5;241m.\u001b[39mto(dtype\u001b[38;5;241m=\u001b[39mdefault_float_dtype)\u001b[38;5;241m.\u001b[39mdiv(\u001b[38;5;241m255\u001b[39m)\n",
      "\u001b[1;31mKeyboardInterrupt\u001b[0m: "
     ]
    }
   ],
   "source": [
    "\n",
    "x_optm = [optim.Adam, optim.SGD]\n",
    "lr_x = [1e-3, 1e-2, 1e-1, 1]\n",
    "p_optm = [optim.Adam, optim.SGD]\n",
    "lr_p = [1e-3, 1e-2, 1e-1, 1]\n",
    "weight_decay = [0, 1e-3, 1e-2, 1e-1]\n",
    "activation_fns = [nn.ReLU, nn.Tanh]\n",
    "best_val_acc_tuning = 0\n",
    "best_params = None\n",
    "\n",
    "for lr_x_ in tqdm(lr_x):\n",
    "    for lr_p_ in lr_p:\n",
    "        for weight_decay_ in weight_decay:\n",
    "            for optimizer_x_fn in x_optm:\n",
    "                for optimizer_p_fn in p_optm:\n",
    "                    for activation_fn_ in activation_fns:\n",
    "                        input_size = 10\n",
    "                        latent_size = 60\n",
    "                        hidden_size = 256\n",
    "                        hidden2_size = 256\n",
    "                        output_size = 28*28\n",
    "\n",
    "                        # activation_fn = nn.ReLU\n",
    "                        # # activation_fn = nn.Tanh\n",
    "\n",
    "\n",
    "                        class PC_V_model(nn.Module):\n",
    "                            def __init__(self, input_size, latent_size, output_size, hidden_size, hidden2_size, activation_fn):\n",
    "                                super(PC_V_model, self).__init__()\n",
    "                                self.head = nn.Sequential(\n",
    "                                    BiasLayer(latent_size, offset=None),\n",
    "                                    pc.PCLayer(),\n",
    "                                )\n",
    "                                self.encoder = nn.Sequential(\n",
    "                                    nn.Linear(latent_size, hidden_size),\n",
    "                                    pc.PCLayer(),\n",
    "                                    activation_fn(),\n",
    "                                    nn.Linear(hidden_size, hidden2_size),\n",
    "                                    pc.PCLayer(),\n",
    "                                    activation_fn(),\n",
    "                                    nn.Linear(hidden2_size, output_size)\n",
    "                                )\n",
    "                                self.decoder = nn.Sequential(\n",
    "                                    nn.Linear(latent_size, input_size),\n",
    "                                )\n",
    "                                \n",
    "                            def forward(self, x):\n",
    "                                latent = self.head(x)\n",
    "                                return torch.cat((self.encoder(latent), self.decoder(latent)), dim=1)\n",
    "\n",
    "\n",
    "                        pc_v_model = PC_V_model(input_size, latent_size, output_size, hidden_size, hidden2_size, activation_fn)\n",
    "                        pc_v_model.train()\n",
    "                        pc_v_model.to(device)\n",
    "\n",
    "\n",
    "                        def loss_fn_v_model(output, _image, _label):\n",
    "                            return 0.5*(output[:,:_image.shape[1]] - _image).pow(2).sum() + 0.1*CE_loss(output[:,_image.shape[1]:], _label)\n",
    "                        T = 20                             # number of inference iterations\n",
    "                        update_x_at = 'all'                 # update latent state x at every iteration\n",
    "                        optimizer_x_fn = optimizer_x_fn         # optimizer for latent state x\n",
    "                        optimizer_x_kwargs = {'lr': lr_x_}    # optimizer parameters for latent state x\n",
    "                        update_p_at = 'last'                # update parameters p at the last iteration\n",
    "                        optimizer_p_fn = optimizer_p_fn         # optimizer for parameters p\n",
    "                        optimizer_p_kwargs = {\"lr\": lr_p_, \"weight_decay\":weight_decay_} # optimizer parameters for parameters p\n",
    "                        plot_progress_at = []            # plot progress every inference iterations\n",
    "\n",
    "                        trainer_v_model = pc.PCTrainer(pc_v_model, \n",
    "                            T = T, \n",
    "                            update_x_at = update_x_at, \n",
    "                            optimizer_x_fn = optimizer_x_fn,\n",
    "                            optimizer_x_kwargs = optimizer_x_kwargs,\n",
    "                            update_p_at = update_p_at,   \n",
    "                            optimizer_p_fn = optimizer_p_fn,\n",
    "                            optimizer_p_kwargs = optimizer_p_kwargs,\n",
    "                            plot_progress_at= plot_progress_at\n",
    "                        )\n",
    "\n",
    "                        # trainer_v_model.set_optimizer_p(optim.Adam(pc_v_model.decoder.parameters(), lr=0.0001, weight_decay=0.01, betas=(0.9,0.999)))\n",
    "\n",
    "                        def test_v_model(model, dataset, batch_size=1000):\n",
    "                            test_loader = torch.utils.data.DataLoader(dataset, batch_size=batch_size, shuffle=False)\n",
    "\n",
    "                            # make pc_trainer for test_model   \n",
    "                            trainer_test = pc.PCTrainer(model, \n",
    "                                T = 200, \n",
    "                                update_x_at = update_x_at, \n",
    "                                optimizer_x_fn = optimizer_x_fn,\n",
    "                                optimizer_x_kwargs = optimizer_x_kwargs,\n",
    "                                update_p_at = \"never\",   \n",
    "                                optimizer_p_fn = optimizer_p_fn,\n",
    "                                optimizer_p_kwargs = optimizer_p_kwargs,\n",
    "                                plot_progress_at= plot_progress_at\n",
    "                            )\n",
    "\n",
    "                            correct_count, all_count = 0., 0.\n",
    "                            for data, labels in (test_loader):\n",
    "                                pseudo_input = torch.zeros(data.shape[0], latent_size)\n",
    "                                data, labels, pseudo_input = data.to(device), labels.to(device), pseudo_input.to(device)\n",
    "                                labels_one_hot = F.one_hot(labels).float()\n",
    "                                # MAP inference\n",
    "                                results = trainer_test.train_on_batch(inputs=pseudo_input, loss_fn=loss_fn_v_model, loss_fn_kwargs={'_image':data, '_label':labels_one_hot}, is_log_progress=False, is_return_results_every_t=False, is_checking_after_callback_after_t=False, is_return_outputs=True)\n",
    "                                output = results[\"outputs\"][-1]\n",
    "                                pred = torch.max(output[:, data.shape[1]:], dim=1)\n",
    "                                correct = (pred.indices == labels).long()\n",
    "                                correct_count += correct.sum()\n",
    "                                all_count += correct.size(0)\n",
    "                            return round((correct_count / all_count).item(), 4)\n",
    "                        epochs = 10\n",
    "                        batch_size = 512\n",
    "                        train_loader = torch.utils.data.DataLoader(train_dataset, batch_size=batch_size, shuffle=True)\n",
    "\n",
    "                        best_val_acc = 0\n",
    "                        best_model = copy.deepcopy(pc_v_model.state_dict())\n",
    "\n",
    "                        train_acc = [test_v_model(pc_v_model, test_dataset)]\n",
    "                        val_acc = [test_v_model(pc_v_model, val_dataset)]\n",
    "                        for epoch in range(epochs):\n",
    "                            for data, labels in train_loader:\n",
    "                                pseudo_input = torch.zeros(data.shape[0], latent_size)\n",
    "                                data, labels, pseudo_input = data.to(device), labels.to(device), pseudo_input.to(device)\n",
    "                                labels_one_hot = F.one_hot(labels).float()\n",
    "                                trainer_v_model.train_on_batch(inputs=pseudo_input, loss_fn=loss_fn_v_model, loss_fn_kwargs={'_image':data, '_label':labels_one_hot}, is_log_progress=False, is_return_results_every_t=False, is_checking_after_callback_after_t=False)\n",
    "                            train_acc.append(test_v_model(pc_v_model, test_dataset))\n",
    "                            val_acc.append(test_v_model(pc_v_model, val_dataset))\n",
    "                            if val_acc[-1] > best_val_acc:\n",
    "                                best_val_acc = val_acc[-1]\n",
    "                                best_model = copy.deepcopy(pc_v_model.state_dict())\n",
    "                            # print(f'Epoch {epoch+1} - Train acc: {train_acc[-1]}, Val acc: {val_acc[-1]}')\n",
    "\n",
    "                        if best_val_acc > best_val_acc_tuning:\n",
    "                            print(f'Best val acc: {best_val_acc}, Best params: \"lr_x\": {lr_x_}, \"lr_p\": {lr_p_}, \"weight_decay\": {weight_decay_}, \"activation_fn\": {activation_fn_}, \"optimizer_x_fn\": {optimizer_x_fn}, \"optimizer_p_fn\": {optimizer_p_fn}')\n",
    "                            best_val_acc_tuning = best_val_acc\n",
    "                            best_params = {\"lr_x\": lr_x_, \"lr_p\": lr_p_, \"weight_decay\": weight_decay_}\n",
    "\n",
    "print(f'Best val acc: {best_val_acc_tuning}, Best params: {best_params}')"
   ]
  }
 ],
 "metadata": {
  "kernelspec": {
   "display_name": "pytorch",
   "language": "python",
   "name": "python3"
  },
  "language_info": {
   "codemirror_mode": {
    "name": "ipython",
    "version": 3
   },
   "file_extension": ".py",
   "mimetype": "text/x-python",
   "name": "python",
   "nbconvert_exporter": "python",
   "pygments_lexer": "ipython3",
   "version": "3.10.9"
  }
 },
 "nbformat": 4,
 "nbformat_minor": 2
}
