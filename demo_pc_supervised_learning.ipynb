{
 "cells": [
  {
   "cell_type": "code",
   "execution_count": 2,
   "metadata": {},
   "outputs": [
    {
     "name": "stdout",
     "output_type": "stream",
     "text": [
      "using cuda\n"
     ]
    }
   ],
   "source": [
    "import torch\n",
    "import torch.nn as nn\n",
    "import torch.optim as optim\n",
    "from torchvision import datasets, transforms\n",
    "import torch.nn.functional as F\n",
    "import random\n",
    "import numpy as np\n",
    "import os\n",
    "import matplotlib.pyplot as plt\n",
    "from tqdm import tqdm\n",
    "import copy \n",
    "\n",
    "import predictive_coding as pc\n",
    "\n",
    "device = torch.device(\"cuda\" if torch.cuda.is_available() else \"cpu\")\n",
    "print(f'using {device}')"
   ]
  },
  {
   "cell_type": "code",
   "execution_count": 3,
   "metadata": {},
   "outputs": [
    {
     "name": "stdout",
     "output_type": "stream",
     "text": [
      "Downloading http://yann.lecun.com/exdb/mnist/train-images-idx3-ubyte.gz\n",
      "Downloading http://yann.lecun.com/exdb/mnist/train-images-idx3-ubyte.gz to ./data\\MNIST\\raw\\train-images-idx3-ubyte.gz\n"
     ]
    },
    {
     "name": "stderr",
     "output_type": "stream",
     "text": [
      "100%|██████████| 9912422/9912422 [00:00<00:00, 74529012.03it/s]\n"
     ]
    },
    {
     "name": "stdout",
     "output_type": "stream",
     "text": [
      "Extracting ./data\\MNIST\\raw\\train-images-idx3-ubyte.gz to ./data\\MNIST\\raw\n",
      "\n",
      "Downloading http://yann.lecun.com/exdb/mnist/train-labels-idx1-ubyte.gz\n",
      "Downloading http://yann.lecun.com/exdb/mnist/train-labels-idx1-ubyte.gz to ./data\\MNIST\\raw\\train-labels-idx1-ubyte.gz\n"
     ]
    },
    {
     "name": "stderr",
     "output_type": "stream",
     "text": [
      "100%|██████████| 28881/28881 [00:00<?, ?it/s]"
     ]
    },
    {
     "name": "stdout",
     "output_type": "stream",
     "text": [
      "Extracting ./data\\MNIST\\raw\\train-labels-idx1-ubyte.gz to ./data\\MNIST\\raw\n",
      "\n",
      "Downloading http://yann.lecun.com/exdb/mnist/t10k-images-idx3-ubyte.gz\n",
      "Downloading http://yann.lecun.com/exdb/mnist/t10k-images-idx3-ubyte.gz to ./data\\MNIST\\raw\\t10k-images-idx3-ubyte.gz\n"
     ]
    },
    {
     "name": "stderr",
     "output_type": "stream",
     "text": [
      "\n",
      "100%|██████████| 1648877/1648877 [00:00<00:00, 82442945.83it/s]\n"
     ]
    },
    {
     "name": "stdout",
     "output_type": "stream",
     "text": [
      "Extracting ./data\\MNIST\\raw\\t10k-images-idx3-ubyte.gz to ./data\\MNIST\\raw\n",
      "\n",
      "Downloading http://yann.lecun.com/exdb/mnist/t10k-labels-idx1-ubyte.gz\n",
      "Downloading http://yann.lecun.com/exdb/mnist/t10k-labels-idx1-ubyte.gz to ./data\\MNIST\\raw\\t10k-labels-idx1-ubyte.gz\n"
     ]
    },
    {
     "name": "stderr",
     "output_type": "stream",
     "text": [
      "100%|██████████| 4542/4542 [00:00<?, ?it/s]"
     ]
    },
    {
     "name": "stdout",
     "output_type": "stream",
     "text": [
      "Extracting ./data\\MNIST\\raw\\t10k-labels-idx1-ubyte.gz to ./data\\MNIST\\raw\n",
      "\n",
      "train: 10000, val: 500, test: 2000\n"
     ]
    },
    {
     "name": "stderr",
     "output_type": "stream",
     "text": [
      "\n"
     ]
    }
   ],
   "source": [
    "n_train = 10000\n",
    "n_val = 500\n",
    "n_test = 2000\n",
    "transform = transforms.Compose([transforms.ToTensor(), transforms.Lambda(lambda x: torch.flatten(x))])\n",
    "dataset_train = datasets.MNIST('./data', download=True, train=True, transform=transform)\n",
    "dataset_eval = datasets.MNIST('./data', download=True, train=False, transform=transform)\n",
    "\n",
    "# Randomly sample the train dataset\n",
    "train_dataset = torch.utils.data.Subset(dataset_train, random.sample(range(len(dataset_train)), n_train))\n",
    "\n",
    "# Randomly sample the val dataset\n",
    "val_dataset, test_dataset, not_used = torch.utils.data.random_split(dataset_eval, [n_val, n_test, dataset_eval.__len__()-n_val-n_test])\n",
    "\n",
    "print(f'train: {len(train_dataset)}, val: {len(val_dataset)}, test: {len(test_dataset)}')"
   ]
  },
  {
   "cell_type": "markdown",
   "metadata": {},
   "source": [
    "PC reversed direction"
   ]
  },
  {
   "cell_type": "code",
   "execution_count": 4,
   "metadata": {},
   "outputs": [
    {
     "data": {
      "text/plain": [
       "Sequential(\n",
       "  (0): Linear(in_features=784, out_features=256, bias=True)\n",
       "  (1): PCLayer()\n",
       "  (2): Tanh()\n",
       "  (3): Linear(in_features=256, out_features=128, bias=True)\n",
       "  (4): PCLayer()\n",
       "  (5): Tanh()\n",
       "  (6): Linear(in_features=128, out_features=10, bias=True)\n",
       ")"
      ]
     },
     "execution_count": 4,
     "metadata": {},
     "output_type": "execute_result"
    }
   ],
   "source": [
    "input_size = 28*28\n",
    "hidden_size = 256\n",
    "hidden2_size = 128\n",
    "output_size = 10\n",
    "\n",
    "# activation_fn = nn.ReLU\n",
    "activation_fn = nn.Tanh\n",
    "\n",
    "def get_model(input_size, hidden_size, hidden2_size, output_size, activation_fn):\n",
    "    return nn.Sequential(\n",
    "        nn.Linear(input_size, hidden_size),\n",
    "        pc.PCLayer(),\n",
    "        activation_fn(),\n",
    "        nn.Linear(hidden_size, hidden2_size),\n",
    "        pc.PCLayer(),\n",
    "        activation_fn(),\n",
    "        nn.Linear(hidden2_size, output_size)\n",
    "    )\n",
    "\n",
    "pc_reversed = get_model(input_size, hidden_size, hidden2_size, output_size, activation_fn)\n",
    "pc_reversed.train()\n",
    "pc_reversed.to(device)"
   ]
  },
  {
   "cell_type": "code",
   "execution_count": 5,
   "metadata": {},
   "outputs": [],
   "source": [
    "T = 50                             # number of inference iterations\n",
    "update_x_at = 'all'                 # update latent state x at every iteration\n",
    "optimizer_x_fn = optim.Adam         # optimizer for latent state x\n",
    "optimizer_x_kwargs = {'lr': 0.1}    # optimizer parameters for latent state x\n",
    "update_p_at = 'last'               # update parameters p at the last iteration\n",
    "optimizer_p_fn = optim.Adam          # optimizer for parameters p\n",
    "optimizer_p_kwargs = {'lr': 0.01, \"weight_decay\":0.05} # optimizer parameters for parameters p\n",
    "plot_progress_at = []            # plot progress every inference iterations\n",
    "\n",
    "trainer_reversed = pc.PCTrainer(pc_reversed, \n",
    "    T = T, \n",
    "    update_x_at = update_x_at, \n",
    "    optimizer_x_fn = optimizer_x_fn,\n",
    "    optimizer_x_kwargs = optimizer_x_kwargs,\n",
    "    update_p_at = update_p_at,   \n",
    "    optimizer_p_fn = optimizer_p_fn,\n",
    "    optimizer_p_kwargs = optimizer_p_kwargs,\n",
    "    plot_progress_at= plot_progress_at,\n",
    ")\n",
    "\n",
    "def test_reversed(model, dataset, batch_size=1000):\n",
    "    model.eval()\n",
    "    test_loader = torch.utils.data.DataLoader(dataset, batch_size=batch_size, shuffle=False)\n",
    "    correct = 0\n",
    "    total = 0\n",
    "    for data, label in test_loader:\n",
    "        data, label = data.to(device), label.to(device)\n",
    "        pred = model(data)\n",
    "        _, predicted = torch.max(pred, -1)\n",
    "        total += label.size(0)\n",
    "        correct += (predicted == label).sum().item()\n",
    "    model.train()\n",
    "    return round(correct / total, 4)"
   ]
  },
  {
   "cell_type": "code",
   "execution_count": 6,
   "metadata": {},
   "outputs": [
    {
     "name": "stderr",
     "output_type": "stream",
     "text": [
      "Epoch 1: 100%|██████████| 10/10 [00:02<00:00,  3.46it/s]\n"
     ]
    },
    {
     "name": "stdout",
     "output_type": "stream",
     "text": [
      "Epoch 1 - Train acc: 0.125, Val acc: 0.13\n"
     ]
    },
    {
     "name": "stderr",
     "output_type": "stream",
     "text": [
      "Epoch 2: 100%|██████████| 10/10 [00:02<00:00,  3.46it/s]\n"
     ]
    },
    {
     "name": "stdout",
     "output_type": "stream",
     "text": [
      "Epoch 2 - Train acc: 0.292, Val acc: 0.298\n"
     ]
    },
    {
     "name": "stderr",
     "output_type": "stream",
     "text": [
      "Epoch 3: 100%|██████████| 10/10 [00:02<00:00,  3.46it/s]\n"
     ]
    },
    {
     "name": "stdout",
     "output_type": "stream",
     "text": [
      "Epoch 3 - Train acc: 0.3825, Val acc: 0.352\n"
     ]
    },
    {
     "name": "stderr",
     "output_type": "stream",
     "text": [
      "Epoch 4: 100%|██████████| 10/10 [00:02<00:00,  3.44it/s]\n"
     ]
    },
    {
     "name": "stdout",
     "output_type": "stream",
     "text": [
      "Epoch 4 - Train acc: 0.4995, Val acc: 0.512\n"
     ]
    },
    {
     "name": "stderr",
     "output_type": "stream",
     "text": [
      "Epoch 5: 100%|██████████| 10/10 [00:02<00:00,  3.46it/s]\n"
     ]
    },
    {
     "name": "stdout",
     "output_type": "stream",
     "text": [
      "Epoch 5 - Train acc: 0.586, Val acc: 0.594\n"
     ]
    },
    {
     "name": "stderr",
     "output_type": "stream",
     "text": [
      "Epoch 6: 100%|██████████| 10/10 [00:02<00:00,  3.46it/s]\n"
     ]
    },
    {
     "name": "stdout",
     "output_type": "stream",
     "text": [
      "Epoch 6 - Train acc: 0.6905, Val acc: 0.71\n"
     ]
    },
    {
     "name": "stderr",
     "output_type": "stream",
     "text": [
      "Epoch 7: 100%|██████████| 10/10 [00:02<00:00,  3.48it/s]\n"
     ]
    },
    {
     "name": "stdout",
     "output_type": "stream",
     "text": [
      "Epoch 7 - Train acc: 0.6855, Val acc: 0.704\n"
     ]
    },
    {
     "name": "stderr",
     "output_type": "stream",
     "text": [
      "Epoch 8: 100%|██████████| 10/10 [00:02<00:00,  3.48it/s]\n"
     ]
    },
    {
     "name": "stdout",
     "output_type": "stream",
     "text": [
      "Epoch 8 - Train acc: 0.6705, Val acc: 0.668\n"
     ]
    },
    {
     "name": "stderr",
     "output_type": "stream",
     "text": [
      "Epoch 9: 100%|██████████| 10/10 [00:02<00:00,  3.46it/s]\n"
     ]
    },
    {
     "name": "stdout",
     "output_type": "stream",
     "text": [
      "Epoch 9 - Train acc: 0.7095, Val acc: 0.696\n"
     ]
    },
    {
     "name": "stderr",
     "output_type": "stream",
     "text": [
      "Epoch 10: 100%|██████████| 10/10 [00:02<00:00,  3.42it/s]\n"
     ]
    },
    {
     "name": "stdout",
     "output_type": "stream",
     "text": [
      "Epoch 10 - Train acc: 0.7485, Val acc: 0.76\n"
     ]
    },
    {
     "name": "stderr",
     "output_type": "stream",
     "text": [
      "Epoch 11: 100%|██████████| 10/10 [00:02<00:00,  3.40it/s]\n"
     ]
    },
    {
     "name": "stdout",
     "output_type": "stream",
     "text": [
      "Epoch 11 - Train acc: 0.782, Val acc: 0.794\n"
     ]
    },
    {
     "name": "stderr",
     "output_type": "stream",
     "text": [
      "Epoch 12: 100%|██████████| 10/10 [00:02<00:00,  3.46it/s]\n"
     ]
    },
    {
     "name": "stdout",
     "output_type": "stream",
     "text": [
      "Epoch 12 - Train acc: 0.7875, Val acc: 0.796\n"
     ]
    },
    {
     "name": "stderr",
     "output_type": "stream",
     "text": [
      "Epoch 13: 100%|██████████| 10/10 [00:02<00:00,  3.46it/s]\n"
     ]
    },
    {
     "name": "stdout",
     "output_type": "stream",
     "text": [
      "Epoch 13 - Train acc: 0.79, Val acc: 0.784\n"
     ]
    },
    {
     "name": "stderr",
     "output_type": "stream",
     "text": [
      "Epoch 14: 100%|██████████| 10/10 [00:02<00:00,  3.46it/s]\n"
     ]
    },
    {
     "name": "stdout",
     "output_type": "stream",
     "text": [
      "Epoch 14 - Train acc: 0.78, Val acc: 0.782\n"
     ]
    },
    {
     "name": "stderr",
     "output_type": "stream",
     "text": [
      "Epoch 15: 100%|██████████| 10/10 [00:02<00:00,  3.46it/s]\n"
     ]
    },
    {
     "name": "stdout",
     "output_type": "stream",
     "text": [
      "Epoch 15 - Train acc: 0.808, Val acc: 0.774\n"
     ]
    },
    {
     "name": "stderr",
     "output_type": "stream",
     "text": [
      "Epoch 16: 100%|██████████| 10/10 [00:02<00:00,  3.47it/s]\n"
     ]
    },
    {
     "name": "stdout",
     "output_type": "stream",
     "text": [
      "Epoch 16 - Train acc: 0.824, Val acc: 0.816\n"
     ]
    },
    {
     "name": "stderr",
     "output_type": "stream",
     "text": [
      "Epoch 17: 100%|██████████| 10/10 [00:02<00:00,  3.44it/s]\n"
     ]
    },
    {
     "name": "stdout",
     "output_type": "stream",
     "text": [
      "Epoch 17 - Train acc: 0.833, Val acc: 0.842\n"
     ]
    },
    {
     "name": "stderr",
     "output_type": "stream",
     "text": [
      "Epoch 18: 100%|██████████| 10/10 [00:02<00:00,  3.40it/s]\n"
     ]
    },
    {
     "name": "stdout",
     "output_type": "stream",
     "text": [
      "Epoch 18 - Train acc: 0.8285, Val acc: 0.83\n"
     ]
    },
    {
     "name": "stderr",
     "output_type": "stream",
     "text": [
      "Epoch 19: 100%|██████████| 10/10 [00:02<00:00,  3.40it/s]\n"
     ]
    },
    {
     "name": "stdout",
     "output_type": "stream",
     "text": [
      "Epoch 19 - Train acc: 0.822, Val acc: 0.84\n"
     ]
    },
    {
     "name": "stderr",
     "output_type": "stream",
     "text": [
      "Epoch 20: 100%|██████████| 10/10 [00:02<00:00,  3.45it/s]\n"
     ]
    },
    {
     "name": "stdout",
     "output_type": "stream",
     "text": [
      "Epoch 20 - Train acc: 0.813, Val acc: 0.84\n"
     ]
    },
    {
     "name": "stderr",
     "output_type": "stream",
     "text": [
      "Epoch 21: 100%|██████████| 10/10 [00:02<00:00,  3.45it/s]\n"
     ]
    },
    {
     "name": "stdout",
     "output_type": "stream",
     "text": [
      "Epoch 21 - Train acc: 0.8295, Val acc: 0.854\n"
     ]
    },
    {
     "name": "stderr",
     "output_type": "stream",
     "text": [
      "Epoch 22: 100%|██████████| 10/10 [00:02<00:00,  3.44it/s]\n"
     ]
    },
    {
     "name": "stdout",
     "output_type": "stream",
     "text": [
      "Epoch 22 - Train acc: 0.836, Val acc: 0.842\n"
     ]
    },
    {
     "name": "stderr",
     "output_type": "stream",
     "text": [
      "Epoch 23: 100%|██████████| 10/10 [00:02<00:00,  3.46it/s]\n"
     ]
    },
    {
     "name": "stdout",
     "output_type": "stream",
     "text": [
      "Epoch 23 - Train acc: 0.8425, Val acc: 0.836\n"
     ]
    },
    {
     "name": "stderr",
     "output_type": "stream",
     "text": [
      "Epoch 24: 100%|██████████| 10/10 [00:02<00:00,  3.46it/s]\n"
     ]
    },
    {
     "name": "stdout",
     "output_type": "stream",
     "text": [
      "Epoch 24 - Train acc: 0.846, Val acc: 0.848\n"
     ]
    },
    {
     "name": "stderr",
     "output_type": "stream",
     "text": [
      "Epoch 25: 100%|██████████| 10/10 [00:02<00:00,  3.46it/s]\n"
     ]
    },
    {
     "name": "stdout",
     "output_type": "stream",
     "text": [
      "Epoch 25 - Train acc: 0.8375, Val acc: 0.84\n"
     ]
    },
    {
     "name": "stderr",
     "output_type": "stream",
     "text": [
      "Epoch 26: 100%|██████████| 10/10 [00:02<00:00,  3.47it/s]\n"
     ]
    },
    {
     "name": "stdout",
     "output_type": "stream",
     "text": [
      "Epoch 26 - Train acc: 0.8395, Val acc: 0.822\n"
     ]
    },
    {
     "name": "stderr",
     "output_type": "stream",
     "text": [
      "Epoch 27: 100%|██████████| 10/10 [00:02<00:00,  3.44it/s]\n"
     ]
    },
    {
     "name": "stdout",
     "output_type": "stream",
     "text": [
      "Epoch 27 - Train acc: 0.8335, Val acc: 0.818\n"
     ]
    },
    {
     "name": "stderr",
     "output_type": "stream",
     "text": [
      "Epoch 28: 100%|██████████| 10/10 [00:02<00:00,  3.47it/s]\n"
     ]
    },
    {
     "name": "stdout",
     "output_type": "stream",
     "text": [
      "Epoch 28 - Train acc: 0.834, Val acc: 0.826\n"
     ]
    },
    {
     "name": "stderr",
     "output_type": "stream",
     "text": [
      "Epoch 29: 100%|██████████| 10/10 [00:02<00:00,  3.44it/s]\n"
     ]
    },
    {
     "name": "stdout",
     "output_type": "stream",
     "text": [
      "Epoch 29 - Train acc: 0.8325, Val acc: 0.846\n"
     ]
    },
    {
     "name": "stderr",
     "output_type": "stream",
     "text": [
      "Epoch 30: 100%|██████████| 10/10 [00:02<00:00,  3.40it/s]\n"
     ]
    },
    {
     "name": "stdout",
     "output_type": "stream",
     "text": [
      "Epoch 30 - Train acc: 0.83, Val acc: 0.824\n"
     ]
    },
    {
     "name": "stderr",
     "output_type": "stream",
     "text": [
      "Epoch 31: 100%|██████████| 10/10 [00:02<00:00,  3.45it/s]\n"
     ]
    },
    {
     "name": "stdout",
     "output_type": "stream",
     "text": [
      "Epoch 31 - Train acc: 0.823, Val acc: 0.836\n"
     ]
    },
    {
     "name": "stderr",
     "output_type": "stream",
     "text": [
      "Epoch 32: 100%|██████████| 10/10 [00:02<00:00,  3.47it/s]\n"
     ]
    },
    {
     "name": "stdout",
     "output_type": "stream",
     "text": [
      "Epoch 32 - Train acc: 0.8265, Val acc: 0.84\n"
     ]
    },
    {
     "name": "stderr",
     "output_type": "stream",
     "text": [
      "Epoch 33: 100%|██████████| 10/10 [00:02<00:00,  3.47it/s]\n"
     ]
    },
    {
     "name": "stdout",
     "output_type": "stream",
     "text": [
      "Epoch 33 - Train acc: 0.8335, Val acc: 0.834\n"
     ]
    },
    {
     "name": "stderr",
     "output_type": "stream",
     "text": [
      "Epoch 34: 100%|██████████| 10/10 [00:02<00:00,  3.48it/s]\n"
     ]
    },
    {
     "name": "stdout",
     "output_type": "stream",
     "text": [
      "Epoch 34 - Train acc: 0.8355, Val acc: 0.84\n"
     ]
    },
    {
     "name": "stderr",
     "output_type": "stream",
     "text": [
      "Epoch 35: 100%|██████████| 10/10 [00:02<00:00,  3.47it/s]\n"
     ]
    },
    {
     "name": "stdout",
     "output_type": "stream",
     "text": [
      "Epoch 35 - Train acc: 0.8405, Val acc: 0.846\n"
     ]
    },
    {
     "name": "stderr",
     "output_type": "stream",
     "text": [
      "Epoch 36: 100%|██████████| 10/10 [00:02<00:00,  3.48it/s]\n"
     ]
    },
    {
     "name": "stdout",
     "output_type": "stream",
     "text": [
      "Epoch 36 - Train acc: 0.8495, Val acc: 0.844\n"
     ]
    },
    {
     "name": "stderr",
     "output_type": "stream",
     "text": [
      "Epoch 37: 100%|██████████| 10/10 [00:02<00:00,  3.47it/s]\n"
     ]
    },
    {
     "name": "stdout",
     "output_type": "stream",
     "text": [
      "Epoch 37 - Train acc: 0.848, Val acc: 0.84\n"
     ]
    },
    {
     "name": "stderr",
     "output_type": "stream",
     "text": [
      "Epoch 38: 100%|██████████| 10/10 [00:02<00:00,  3.40it/s]\n"
     ]
    },
    {
     "name": "stdout",
     "output_type": "stream",
     "text": [
      "Epoch 38 - Train acc: 0.8475, Val acc: 0.844\n"
     ]
    },
    {
     "name": "stderr",
     "output_type": "stream",
     "text": [
      "Epoch 39: 100%|██████████| 10/10 [00:02<00:00,  3.42it/s]\n"
     ]
    },
    {
     "name": "stdout",
     "output_type": "stream",
     "text": [
      "Epoch 39 - Train acc: 0.846, Val acc: 0.842\n"
     ]
    },
    {
     "name": "stderr",
     "output_type": "stream",
     "text": [
      "Epoch 40: 100%|██████████| 10/10 [00:02<00:00,  3.46it/s]\n"
     ]
    },
    {
     "name": "stdout",
     "output_type": "stream",
     "text": [
      "Epoch 40 - Train acc: 0.843, Val acc: 0.854\n"
     ]
    },
    {
     "name": "stderr",
     "output_type": "stream",
     "text": [
      "Epoch 41: 100%|██████████| 10/10 [00:02<00:00,  3.45it/s]\n"
     ]
    },
    {
     "name": "stdout",
     "output_type": "stream",
     "text": [
      "Epoch 41 - Train acc: 0.8445, Val acc: 0.848\n"
     ]
    },
    {
     "name": "stderr",
     "output_type": "stream",
     "text": [
      "Epoch 42: 100%|██████████| 10/10 [00:02<00:00,  3.47it/s]\n"
     ]
    },
    {
     "name": "stdout",
     "output_type": "stream",
     "text": [
      "Epoch 42 - Train acc: 0.831, Val acc: 0.838\n"
     ]
    },
    {
     "name": "stderr",
     "output_type": "stream",
     "text": [
      "Epoch 43: 100%|██████████| 10/10 [00:02<00:00,  3.45it/s]\n"
     ]
    },
    {
     "name": "stdout",
     "output_type": "stream",
     "text": [
      "Epoch 43 - Train acc: 0.847, Val acc: 0.854\n"
     ]
    },
    {
     "name": "stderr",
     "output_type": "stream",
     "text": [
      "Epoch 44: 100%|██████████| 10/10 [00:02<00:00,  3.47it/s]\n"
     ]
    },
    {
     "name": "stdout",
     "output_type": "stream",
     "text": [
      "Epoch 44 - Train acc: 0.849, Val acc: 0.856\n"
     ]
    },
    {
     "name": "stderr",
     "output_type": "stream",
     "text": [
      "Epoch 45: 100%|██████████| 10/10 [00:02<00:00,  3.47it/s]\n"
     ]
    },
    {
     "name": "stdout",
     "output_type": "stream",
     "text": [
      "Epoch 45 - Train acc: 0.8515, Val acc: 0.844\n"
     ]
    },
    {
     "name": "stderr",
     "output_type": "stream",
     "text": [
      "Epoch 46: 100%|██████████| 10/10 [00:02<00:00,  3.47it/s]\n"
     ]
    },
    {
     "name": "stdout",
     "output_type": "stream",
     "text": [
      "Epoch 46 - Train acc: 0.8485, Val acc: 0.848\n"
     ]
    },
    {
     "name": "stderr",
     "output_type": "stream",
     "text": [
      "Epoch 47: 100%|██████████| 10/10 [00:02<00:00,  3.46it/s]\n"
     ]
    },
    {
     "name": "stdout",
     "output_type": "stream",
     "text": [
      "Epoch 47 - Train acc: 0.8575, Val acc: 0.836\n"
     ]
    },
    {
     "name": "stderr",
     "output_type": "stream",
     "text": [
      "Epoch 48: 100%|██████████| 10/10 [00:02<00:00,  3.46it/s]\n"
     ]
    },
    {
     "name": "stdout",
     "output_type": "stream",
     "text": [
      "Epoch 48 - Train acc: 0.8445, Val acc: 0.852\n"
     ]
    },
    {
     "name": "stderr",
     "output_type": "stream",
     "text": [
      "Epoch 49: 100%|██████████| 10/10 [00:02<00:00,  3.46it/s]\n"
     ]
    },
    {
     "name": "stdout",
     "output_type": "stream",
     "text": [
      "Epoch 49 - Train acc: 0.847, Val acc: 0.858\n"
     ]
    },
    {
     "name": "stderr",
     "output_type": "stream",
     "text": [
      "Epoch 50: 100%|██████████| 10/10 [00:02<00:00,  3.44it/s]\n"
     ]
    },
    {
     "name": "stdout",
     "output_type": "stream",
     "text": [
      "Epoch 50 - Train acc: 0.853, Val acc: 0.844\n",
      "Test accuracy: 0.847\n"
     ]
    },
    {
     "data": {
      "image/png": "[encoded data removed]",
      "text/plain": [
       "<Figure size 640x480 with 1 Axes>"
      ]
     },
     "metadata": {},
     "output_type": "display_data"
    }
   ],
   "source": [
    "epochs = 50\n",
    "batch_size = 1024\n",
    "train_loader = torch.utils.data.DataLoader(train_dataset, batch_size=batch_size, shuffle=True)\n",
    "\n",
    "CE_loss = nn.CrossEntropyLoss()\n",
    "loss_fn = lambda output, _target: CE_loss(output, _target)\n",
    "\n",
    "best_val_acc = 0\n",
    "best_model = copy.deepcopy(pc_reversed.state_dict())\n",
    "\n",
    "train_acc = [test_reversed(pc_reversed, test_dataset)]\n",
    "val_acc = [test_reversed(pc_reversed, val_dataset)]\n",
    "for epoch in range(epochs):\n",
    "    for data, label in tqdm(train_loader, desc=f'Epoch {epoch+1}'):\n",
    "        data, label = data.to(device), label.to(device)\n",
    "        trainer_reversed.train_on_batch(inputs=data, loss_fn=loss_fn, loss_fn_kwargs={'_target':label}, is_log_progress=False, is_return_results_every_t=False, is_checking_after_callback_after_t=False)\n",
    "    train_acc.append(test_reversed(pc_reversed, test_dataset))\n",
    "    val_acc.append(test_reversed(pc_reversed, val_dataset))\n",
    "    if val_acc[-1] > best_val_acc:\n",
    "        best_val_acc = val_acc[-1]\n",
    "        best_model = copy.deepcopy(pc_reversed.state_dict())\n",
    "    print(f'Epoch {epoch+1} - Train acc: {train_acc[-1]}, Val acc: {val_acc[-1]}')\n",
    "\n",
    "\n",
    "plt.plot(train_acc, label='Train')\n",
    "plt.plot(val_acc, label='Val')\n",
    "plt.legend()\n",
    "plt.xlabel('Epoch')\n",
    "plt.ylabel('Accuracy')\n",
    "plt.title('Reversed PC')\n",
    "    \n",
    "test_model = get_model(input_size, hidden_size, hidden2_size, output_size, activation_fn)\n",
    "test_model.load_state_dict(best_model, strict=False)\n",
    "test_model.to(device)\n",
    "acc_test = test_reversed(test_model, test_dataset)\n",
    "print(f'Test accuracy: {acc_test}')"
   ]
  },
  {
   "cell_type": "markdown",
   "metadata": {},
   "source": [
    "PC normal direction"
   ]
  },
  {
   "cell_type": "code",
   "execution_count": 7,
   "metadata": {},
   "outputs": [],
   "source": [
    "input_size = 10\n",
    "hidden_size = 256\n",
    "hidden2_size = 256\n",
    "output_size = 28*28\n",
    "\n",
    "# activation_fn = nn.ReLU\n",
    "activation_fn = nn.Tanh\n",
    "\n",
    "pc_normal = get_model(input_size, hidden_size, hidden2_size, output_size, activation_fn)\n",
    "pc_normal.train()\n",
    "pc_normal.to(device)\n",
    "\n",
    "def loss_fn_normal(output, _target):\n",
    "    return 0.5*(output - _target).pow(2).sum()"
   ]
  },
  {
   "cell_type": "code",
   "execution_count": 8,
   "metadata": {},
   "outputs": [],
   "source": [
    "T = 20                             # number of inference iterations\n",
    "update_x_at = 'all'                 # update latent state x at every iteration\n",
    "optimizer_x_fn = optim.SGD         # optimizer for latent state x\n",
    "optimizer_x_kwargs = {'lr': 0.01}    # optimizer parameters for latent state x\n",
    "update_p_at = 'last'                # update parameters p at the last iteration\n",
    "optimizer_p_fn = optim.Adam          # optimizer for parameters p\n",
    "optimizer_p_kwargs = {\"lr\": 0.001, \"weight_decay\":0., \"betas\":(0.9,0.999)} # optimizer parameters for parameters p\n",
    "plot_progress_at = []            # plot progress every inference iterations\n",
    "\n",
    "trainer_normal = pc.PCTrainer(pc_normal, \n",
    "    T = T, \n",
    "    update_x_at = update_x_at, \n",
    "    optimizer_x_fn = optimizer_x_fn,\n",
    "    optimizer_x_kwargs = optimizer_x_kwargs,\n",
    "    update_p_at = update_p_at,   \n",
    "    optimizer_p_fn = optimizer_p_fn,\n",
    "    optimizer_p_kwargs = optimizer_p_kwargs,\n",
    "    plot_progress_at= plot_progress_at\n",
    ")\n",
    "\n",
    "# This class contains the parameters of the prior mean \\mu parameter (see figure)\n",
    "class BiasLayer(nn.Module):\n",
    "    def __init__(self, out_features, offset=0.):\n",
    "        super(BiasLayer, self).__init__()\n",
    "        self.bias = nn.Parameter(offset*torch.ones(out_features) if offset is not None else 2*np.sqrt(out_features)*torch.rand(out_features)-np.sqrt(out_features), requires_grad=True)\n",
    "\n",
    "    def forward(self, x):\n",
    "        return torch.zeros_like(x) + self.bias  # return the prior mean \\mu witht the same shape as the input x to make sure the batch size is the same\n",
    "\n",
    "\n",
    "def test_normal(model, dataset, batch_size=1000):\n",
    "    test_loader = torch.utils.data.DataLoader(dataset, batch_size=batch_size, shuffle=False)\n",
    "\n",
    "    # add bias layer for inferece\n",
    "    test_model = nn.Sequential(\n",
    "        BiasLayer(10, offset=0.),\n",
    "        pc.PCLayer(),\n",
    "        model\n",
    "    )\n",
    "    test_model.train()\n",
    "    test_model.to(device)\n",
    "\n",
    "    # make pc_trainer for test_model   \n",
    "    trainer_normal_test = pc.PCTrainer(test_model, \n",
    "        T = 100, \n",
    "        update_x_at = update_x_at, \n",
    "        optimizer_x_fn = optimizer_x_fn,\n",
    "        optimizer_x_kwargs = optimizer_x_kwargs,\n",
    "        update_p_at = \"never\",   \n",
    "        optimizer_p_fn = optimizer_p_fn,\n",
    "        optimizer_p_kwargs = optimizer_p_kwargs,\n",
    "        plot_progress_at= plot_progress_at\n",
    "    )\n",
    "\n",
    "    correct_count, all_count = 0., 0.\n",
    "    for data, labels in (test_loader):\n",
    "        pseudo_input = torch.zeros(data.shape[0], 10)\n",
    "        data, labels, pseudo_input = data.to(device), labels.to(device), pseudo_input.to(device)\n",
    "        \n",
    "        # MAP inference\n",
    "        trainer_normal_test.train_on_batch(inputs=pseudo_input, loss_fn=loss_fn_normal, loss_fn_kwargs={'_target':data}, is_log_progress=False, is_return_results_every_t=False, is_checking_after_callback_after_t=False)\n",
    "        pred = torch.max(test_model[1].get_x(), dim=1)\n",
    "        correct = (pred.indices == labels).long()\n",
    "        correct_count += correct.sum()\n",
    "        all_count += correct.size(0)\n",
    "    return round((correct_count / all_count).item(), 4)"
   ]
  },
  {
   "cell_type": "code",
   "execution_count": 9,
   "metadata": {},
   "outputs": [
    {
     "name": "stderr",
     "output_type": "stream",
     "text": [
      "Epoch 1: 100%|██████████| 20/20 [00:02<00:00,  7.48it/s]\n"
     ]
    },
    {
     "name": "stdout",
     "output_type": "stream",
     "text": [
      "Epoch 1 - Train acc: 0.73, Val acc: 0.754\n"
     ]
    },
    {
     "name": "stderr",
     "output_type": "stream",
     "text": [
      "Epoch 2: 100%|██████████| 20/20 [00:02<00:00,  7.47it/s]\n"
     ]
    },
    {
     "name": "stdout",
     "output_type": "stream",
     "text": [
      "Epoch 2 - Train acc: 0.782, Val acc: 0.786\n"
     ]
    },
    {
     "name": "stderr",
     "output_type": "stream",
     "text": [
      "Epoch 3: 100%|██████████| 20/20 [00:02<00:00,  7.50it/s]\n"
     ]
    },
    {
     "name": "stdout",
     "output_type": "stream",
     "text": [
      "Epoch 3 - Train acc: 0.8065, Val acc: 0.828\n"
     ]
    },
    {
     "name": "stderr",
     "output_type": "stream",
     "text": [
      "Epoch 4: 100%|██████████| 20/20 [00:02<00:00,  7.49it/s]\n"
     ]
    },
    {
     "name": "stdout",
     "output_type": "stream",
     "text": [
      "Epoch 4 - Train acc: 0.8195, Val acc: 0.842\n"
     ]
    },
    {
     "name": "stderr",
     "output_type": "stream",
     "text": [
      "Epoch 5: 100%|██████████| 20/20 [00:02<00:00,  7.51it/s]\n"
     ]
    },
    {
     "name": "stdout",
     "output_type": "stream",
     "text": [
      "Epoch 5 - Train acc: 0.82, Val acc: 0.848\n"
     ]
    },
    {
     "name": "stderr",
     "output_type": "stream",
     "text": [
      "Epoch 6: 100%|██████████| 20/20 [00:02<00:00,  7.51it/s]\n"
     ]
    },
    {
     "name": "stdout",
     "output_type": "stream",
     "text": [
      "Epoch 6 - Train acc: 0.832, Val acc: 0.844\n"
     ]
    },
    {
     "name": "stderr",
     "output_type": "stream",
     "text": [
      "Epoch 7: 100%|██████████| 20/20 [00:02<00:00,  6.88it/s]\n"
     ]
    },
    {
     "name": "stdout",
     "output_type": "stream",
     "text": [
      "Epoch 7 - Train acc: 0.832, Val acc: 0.846\n"
     ]
    },
    {
     "name": "stderr",
     "output_type": "stream",
     "text": [
      "Epoch 8: 100%|██████████| 20/20 [00:02<00:00,  7.51it/s]\n"
     ]
    },
    {
     "name": "stdout",
     "output_type": "stream",
     "text": [
      "Epoch 8 - Train acc: 0.8275, Val acc: 0.844\n"
     ]
    },
    {
     "name": "stderr",
     "output_type": "stream",
     "text": [
      "Epoch 9: 100%|██████████| 20/20 [00:02<00:00,  7.45it/s]\n"
     ]
    },
    {
     "name": "stdout",
     "output_type": "stream",
     "text": [
      "Epoch 9 - Train acc: 0.834, Val acc: 0.834\n"
     ]
    },
    {
     "name": "stderr",
     "output_type": "stream",
     "text": [
      "Epoch 10: 100%|██████████| 20/20 [00:02<00:00,  7.51it/s]\n"
     ]
    },
    {
     "name": "stdout",
     "output_type": "stream",
     "text": [
      "Epoch 10 - Train acc: 0.826, Val acc: 0.832\n",
      "Test accuracy: 0.82\n"
     ]
    },
    {
     "data": {
      "image/png": "[encoded data removed]",
      "text/plain": [
       "<Figure size 640x480 with 1 Axes>"
      ]
     },
     "metadata": {},
     "output_type": "display_data"
    }
   ],
   "source": [
    "epochs = 10\n",
    "batch_size = 500\n",
    "train_loader = torch.utils.data.DataLoader(train_dataset, batch_size=batch_size, shuffle=True)\n",
    "\n",
    "best_val_acc = 0\n",
    "best_model = copy.deepcopy(pc_normal.state_dict())\n",
    "\n",
    "train_acc = [test_normal(pc_normal, test_dataset)]\n",
    "val_acc = [test_normal(pc_normal, val_dataset)]\n",
    "for epoch in range(epochs):\n",
    "    for data, label in tqdm(train_loader, desc=f'Epoch {epoch+1}'):\n",
    "        data, label = data.to(device), label.to(device)\n",
    "        # labels to one-hot\n",
    "        labels_one_hot = F.one_hot(label).float()\n",
    "        trainer_normal.train_on_batch(inputs=labels_one_hot, loss_fn=loss_fn_normal, loss_fn_kwargs={'_target':data}, is_log_progress=False, is_return_results_every_t=False, is_checking_after_callback_after_t=False)\n",
    "    train_acc.append(test_normal(pc_normal, test_dataset))\n",
    "    val_acc.append(test_normal(pc_normal, val_dataset))\n",
    "    if val_acc[-1] > best_val_acc:\n",
    "        best_val_acc = val_acc[-1]\n",
    "        best_model = copy.deepcopy(pc_normal.state_dict())\n",
    "    print(f'Epoch {epoch+1} - Train acc: {train_acc[-1]}, Val acc: {val_acc[-1]}')\n",
    "\n",
    "\n",
    "plt.plot(train_acc, label='Train')\n",
    "plt.plot(val_acc, label='Val')\n",
    "plt.legend()\n",
    "plt.xlabel('Epoch')\n",
    "plt.ylabel('Accuracy')\n",
    "plt.title('Normal PC')\n",
    "    \n",
    "test_model = get_model(input_size, hidden_size, hidden2_size, output_size, activation_fn)\n",
    "test_model.train()\n",
    "test_model.load_state_dict(best_model, strict=False)\n",
    "test_model.to(device)\n",
    "acc_test = test_normal(test_model, test_dataset)\n",
    "print(f'Test accuracy: {acc_test}')"
   ]
  },
  {
   "cell_type": "markdown",
   "metadata": {},
   "source": [
    "V -model"
   ]
  },
  {
   "cell_type": "code",
   "execution_count": 20,
   "metadata": {},
   "outputs": [
    {
     "name": "stderr",
     "output_type": "stream",
     "text": [
      "100%|██████████| 20/20 [00:03<00:00,  5.96it/s]\n"
     ]
    },
    {
     "name": "stdout",
     "output_type": "stream",
     "text": [
      "Train accuracy: 0.0425\n",
      "Val accuracy: 0.038\n"
     ]
    },
    {
     "name": "stderr",
     "output_type": "stream",
     "text": [
      "100%|██████████| 20/20 [00:03<00:00,  5.94it/s]\n"
     ]
    },
    {
     "name": "stdout",
     "output_type": "stream",
     "text": [
      "Train accuracy: 0.197\n",
      "Val accuracy: 0.194\n"
     ]
    },
    {
     "name": "stderr",
     "output_type": "stream",
     "text": [
      "100%|██████████| 20/20 [00:03<00:00,  5.96it/s]\n"
     ]
    },
    {
     "name": "stdout",
     "output_type": "stream",
     "text": [
      "Train accuracy: 0.9175\n",
      "Val accuracy: 0.896\n"
     ]
    },
    {
     "name": "stderr",
     "output_type": "stream",
     "text": [
      "100%|██████████| 20/20 [00:03<00:00,  5.89it/s]\n"
     ]
    },
    {
     "name": "stdout",
     "output_type": "stream",
     "text": [
      "Train accuracy: 0.9175\n",
      "Val accuracy: 0.896\n"
     ]
    },
    {
     "name": "stderr",
     "output_type": "stream",
     "text": [
      "100%|██████████| 20/20 [00:03<00:00,  5.95it/s]\n"
     ]
    },
    {
     "name": "stdout",
     "output_type": "stream",
     "text": [
      "Train accuracy: 0.6145\n",
      "Val accuracy: 0.626\n"
     ]
    },
    {
     "name": "stderr",
     "output_type": "stream",
     "text": [
      "100%|██████████| 20/20 [00:03<00:00,  5.52it/s]\n"
     ]
    },
    {
     "name": "stdout",
     "output_type": "stream",
     "text": [
      "Train accuracy: 0.8755\n",
      "Val accuracy: 0.876\n"
     ]
    },
    {
     "name": "stderr",
     "output_type": "stream",
     "text": [
      "100%|██████████| 20/20 [00:03<00:00,  5.93it/s]\n"
     ]
    },
    {
     "name": "stdout",
     "output_type": "stream",
     "text": [
      "Train accuracy: 0.952\n",
      "Val accuracy: 0.93\n"
     ]
    },
    {
     "name": "stderr",
     "output_type": "stream",
     "text": [
      "100%|██████████| 20/20 [00:03<00:00,  5.99it/s]\n"
     ]
    },
    {
     "name": "stdout",
     "output_type": "stream",
     "text": [
      "Train accuracy: 1.0\n",
      "Val accuracy: 1.0\n"
     ]
    },
    {
     "name": "stderr",
     "output_type": "stream",
     "text": [
      "100%|██████████| 20/20 [00:03<00:00,  5.99it/s]\n"
     ]
    },
    {
     "name": "stdout",
     "output_type": "stream",
     "text": [
      "Train accuracy: 1.0\n",
      "Val accuracy: 1.0\n"
     ]
    },
    {
     "name": "stderr",
     "output_type": "stream",
     "text": [
      "100%|██████████| 20/20 [00:03<00:00,  5.93it/s]\n"
     ]
    },
    {
     "name": "stdout",
     "output_type": "stream",
     "text": [
      "Train accuracy: 1.0\n",
      "Val accuracy: 1.0\n",
      "Test accuracy: 1.0\n"
     ]
    },
    {
     "data": {
      "text/plain": [
       "Text(0, 0.5, 'Accuracy')"
      ]
     },
     "execution_count": 20,
     "metadata": {},
     "output_type": "execute_result"
    },
    {
     "data": {
      "image/png": "[encoded data removed]",
      "text/plain": [
       "<Figure size 640x480 with 1 Axes>"
      ]
     },
     "metadata": {},
     "output_type": "display_data"
    }
   ],
   "source": [
    "# set seed \n",
    "torch.manual_seed(0)\n",
    "\n",
    "x_optm = optim.Adam\n",
    "lr_x = 1e-1\n",
    "p_optm = optim.Adam\n",
    "lr_p =  1e-2\n",
    "weight_decay = 0\n",
    "activation_fns = nn.ReLU\n",
    "\n",
    "input_size = 10\n",
    "latent_size = 60\n",
    "hidden_size = 256\n",
    "hidden2_size = 256\n",
    "output_size = 28*28\n",
    "\n",
    "\n",
    "class PC_V_model(nn.Module):\n",
    "    def __init__(self, input_size, latent_size, output_size, hidden_size, hidden2_size, activation_fn):\n",
    "        super(PC_V_model, self).__init__()\n",
    "        self.head = nn.Sequential(\n",
    "            BiasLayer(latent_size, offset=None),\n",
    "            pc.PCLayer(),\n",
    "        )\n",
    "        self.encoder = nn.Sequential(\n",
    "            nn.Linear(latent_size, hidden_size),\n",
    "            pc.PCLayer(),\n",
    "            activation_fn(),\n",
    "            nn.Linear(hidden_size, hidden2_size),\n",
    "            pc.PCLayer(),\n",
    "            activation_fn(),\n",
    "            nn.Linear(hidden2_size, output_size)\n",
    "        )\n",
    "        self.decoder = nn.Sequential(\n",
    "            nn.Linear(latent_size, input_size),\n",
    "        )\n",
    "        \n",
    "    def forward(self, x):\n",
    "        latent = self.head(x)\n",
    "        return torch.cat((self.encoder(latent), self.decoder(latent)), dim=1)\n",
    "\n",
    "\n",
    "pc_v_model = PC_V_model(input_size, latent_size, output_size, hidden_size, hidden2_size, activation_fn)\n",
    "pc_v_model.train()\n",
    "pc_v_model.to(device)\n",
    "\n",
    "\n",
    "def loss_fn_v_model(output, _image, _label):\n",
    "    return 0.5*(output[:,:_image.shape[1]] - _image).pow(2).sum() + 0.1*CE_loss(output[:,_image.shape[1]:], _label)\n",
    "T = 20                             # number of inference iterations\n",
    "update_x_at = 'all'                 # update latent state x at every iteration\n",
    "optimizer_x_fn = x_optm         # optimizer for latent state x\n",
    "optimizer_x_kwargs = {'lr': lr_x}    # optimizer parameters for latent state x\n",
    "update_p_at = 'last'                # update parameters p at the last iteration\n",
    "optimizer_p_fn = p_optm         # optimizer for parameters p\n",
    "optimizer_p_kwargs = {\"lr\": lr_p, \"weight_decay\":weight_decay} # optimizer parameters for parameters p\n",
    "plot_progress_at = []            # plot progress every inference iterations\n",
    "\n",
    "trainer_v_model = pc.PCTrainer(pc_v_model, \n",
    "    T = T, \n",
    "    update_x_at = update_x_at, \n",
    "    optimizer_x_fn = optimizer_x_fn,\n",
    "    optimizer_x_kwargs = optimizer_x_kwargs,\n",
    "    update_p_at = update_p_at,   \n",
    "    optimizer_p_fn = optimizer_p_fn,\n",
    "    optimizer_p_kwargs = optimizer_p_kwargs,\n",
    "    plot_progress_at= plot_progress_at\n",
    ")\n",
    "\n",
    "# trainer_v_model.set_optimizer_p(optim.Adam(pc_v_model.decoder.parameters(), lr=0.0001, weight_decay=0.01, betas=(0.9,0.999)))\n",
    "\n",
    "def test_v_model(model, dataset, batch_size=1000):\n",
    "    test_loader = torch.utils.data.DataLoader(dataset, batch_size=batch_size, shuffle=False)\n",
    "\n",
    "    # make pc_trainer for test_model   \n",
    "    trainer_test = pc.PCTrainer(model, \n",
    "        T = 200, \n",
    "        update_x_at = update_x_at, \n",
    "        optimizer_x_fn = optimizer_x_fn,\n",
    "        optimizer_x_kwargs = optimizer_x_kwargs,\n",
    "        update_p_at = \"never\",   \n",
    "        optimizer_p_fn = optimizer_p_fn,\n",
    "        optimizer_p_kwargs = optimizer_p_kwargs,\n",
    "        plot_progress_at= plot_progress_at\n",
    "    )\n",
    "\n",
    "    correct_count, all_count = 0., 0.\n",
    "    for data, labels in (test_loader):\n",
    "        pseudo_input = torch.zeros(data.shape[0], latent_size)\n",
    "        data, labels, pseudo_input = data.to(device), labels.to(device), pseudo_input.to(device)\n",
    "        labels_one_hot = F.one_hot(labels).float()\n",
    "        # MAP inference\n",
    "        results = trainer_test.train_on_batch(inputs=pseudo_input, loss_fn=loss_fn_v_model, loss_fn_kwargs={'_image':data, '_label':labels_one_hot}, is_log_progress=False, is_return_results_every_t=False, is_checking_after_callback_after_t=False, is_return_outputs=True)\n",
    "        output = results[\"outputs\"][-1]\n",
    "        pred = torch.max(output[:, data.shape[1]:], dim=1)\n",
    "        correct = (pred.indices == labels).long()\n",
    "        correct_count += correct.sum()\n",
    "        all_count += correct.size(0)\n",
    "    return round((correct_count / all_count).item(), 4)\n",
    "epochs = 10\n",
    "batch_size = 512\n",
    "train_loader = torch.utils.data.DataLoader(train_dataset, batch_size=batch_size, shuffle=True)\n",
    "\n",
    "best_val_acc = 0\n",
    "best_model = copy.deepcopy(pc_v_model.state_dict())\n",
    "\n",
    "train_acc = [test_v_model(pc_v_model, test_dataset)]\n",
    "val_acc = [test_v_model(pc_v_model, val_dataset)]\n",
    "for epoch in range(epochs):\n",
    "    for data, labels in tqdm(train_loader):\n",
    "        pseudo_input = torch.zeros(data.shape[0], latent_size)\n",
    "        data, labels, pseudo_input = data.to(device), labels.to(device), pseudo_input.to(device)\n",
    "        labels_one_hot = F.one_hot(labels).float()\n",
    "        trainer_v_model.train_on_batch(inputs=pseudo_input, loss_fn=loss_fn_v_model, loss_fn_kwargs={'_image':data, '_label':labels_one_hot}, is_log_progress=False, is_return_results_every_t=False, is_checking_after_callback_after_t=False)\n",
    "    train_acc.append(test_v_model(pc_v_model, test_dataset))\n",
    "    val_acc.append(test_v_model(pc_v_model, val_dataset))\n",
    "    print(\"Train accuracy:\", train_acc[-1])\n",
    "    print(\"Val accuracy:\", val_acc[-1])\n",
    "    if val_acc[-1] > best_val_acc:\n",
    "        best_val_acc = val_acc[-1]\n",
    "        best_model = copy.deepcopy(pc_v_model.state_dict())\n",
    "\n",
    "\n",
    "test_model =  PC_V_model(input_size, latent_size, output_size, hidden_size, hidden2_size, activation_fn)\n",
    "test_model.train()\n",
    "test_model.load_state_dict(best_model, strict=False)\n",
    "test_model.to(device)\n",
    "acc_test = test_v_model(test_model, test_dataset)\n",
    "print(f'Test accuracy: {acc_test}')\n",
    "\n",
    "plt.plot(train_acc, label='Train')\n",
    "plt.plot(val_acc, label='Val')\n",
    "plt.legend()\n",
    "plt.xlabel('Epoch')\n",
    "plt.ylabel('Accuracy')\n"
   ]
  },
  {
   "cell_type": "code",
   "execution_count": 10,
   "metadata": {},
   "outputs": [
    {
     "name": "stderr",
     "output_type": "stream",
     "text": [
      "  0%|          | 0/4 [00:00<?, ?it/s]"
     ]
    },
    {
     "name": "stdout",
     "output_type": "stream",
     "text": [
      "Best val acc: 0.158, Best params: \"lr_x\": 0.001, \"lr_p\": 0.001, \"weight_decay\": 0, \"activation_fn\": <class 'torch.nn.modules.activation.ReLU'>, \"optimizer_x_fn\": <class 'torch.optim.adam.Adam'>, \"optimizer_p_fn\": <class 'torch.optim.adam.Adam'>\n",
      "Best val acc: 0.17, Best params: \"lr_x\": 0.001, \"lr_p\": 0.001, \"weight_decay\": 0, \"activation_fn\": <class 'torch.nn.modules.activation.Tanh'>, \"optimizer_x_fn\": <class 'torch.optim.adam.Adam'>, \"optimizer_p_fn\": <class 'torch.optim.adam.Adam'>\n",
      "Best val acc: 0.172, Best params: \"lr_x\": 0.001, \"lr_p\": 0.001, \"weight_decay\": 0.001, \"activation_fn\": <class 'torch.nn.modules.activation.ReLU'>, \"optimizer_x_fn\": <class 'torch.optim.adam.Adam'>, \"optimizer_p_fn\": <class 'torch.optim.adam.Adam'>\n",
      "Best val acc: 0.268, Best params: \"lr_x\": 0.001, \"lr_p\": 0.1, \"weight_decay\": 0.001, \"activation_fn\": <class 'torch.nn.modules.activation.ReLU'>, \"optimizer_x_fn\": <class 'torch.optim.sgd.SGD'>, \"optimizer_p_fn\": <class 'torch.optim.adam.Adam'>\n"
     ]
    },
    {
     "name": "stderr",
     "output_type": "stream",
     "text": [
      " 25%|██▌       | 1/4 [2:14:29<6:43:29, 8069.68s/it]"
     ]
    },
    {
     "name": "stdout",
     "output_type": "stream",
     "text": [
      "Best val acc: 0.302, Best params: \"lr_x\": 0.01, \"lr_p\": 0.1, \"weight_decay\": 0, \"activation_fn\": <class 'torch.nn.modules.activation.Tanh'>, \"optimizer_x_fn\": <class 'torch.optim.sgd.SGD'>, \"optimizer_p_fn\": <class 'torch.optim.adam.Adam'>\n"
     ]
    },
    {
     "name": "stderr",
     "output_type": "stream",
     "text": [
      " 50%|█████     | 2/4 [4:28:55<4:28:55, 8067.60s/it]"
     ]
    },
    {
     "name": "stdout",
     "output_type": "stream",
     "text": [
      "Best val acc: 0.344, Best params: \"lr_x\": 0.1, \"lr_p\": 0.001, \"weight_decay\": 0, \"activation_fn\": <class 'torch.nn.modules.activation.ReLU'>, \"optimizer_x_fn\": <class 'torch.optim.adam.Adam'>, \"optimizer_p_fn\": <class 'torch.optim.adam.Adam'>\n",
      "Best val acc: 0.972, Best params: \"lr_x\": 0.1, \"lr_p\": 0.01, \"weight_decay\": 0, \"activation_fn\": <class 'torch.nn.modules.activation.ReLU'>, \"optimizer_x_fn\": <class 'torch.optim.adam.Adam'>, \"optimizer_p_fn\": <class 'torch.optim.adam.Adam'>\n"
     ]
    },
    {
     "name": "stderr",
     "output_type": "stream",
     "text": [
      " 75%|███████▌  | 3/4 [6:43:21<2:14:26, 8066.93s/it]"
     ]
    },
    {
     "name": "stdout",
     "output_type": "stream",
     "text": [
      "Best val acc: 1.0, Best params: \"lr_x\": 1, \"lr_p\": 0.01, \"weight_decay\": 0.001, \"activation_fn\": <class 'torch.nn.modules.activation.Tanh'>, \"optimizer_x_fn\": <class 'torch.optim.adam.Adam'>, \"optimizer_p_fn\": <class 'torch.optim.adam.Adam'>\n"
     ]
    },
    {
     "name": "stderr",
     "output_type": "stream",
     "text": [
      "100%|██████████| 4/4 [8:57:49<00:00, 8067.44s/it]  "
     ]
    },
    {
     "name": "stdout",
     "output_type": "stream",
     "text": [
      "Best val acc: 1.0, Best params: {'lr_x': 1, 'lr_p': 0.01, 'weight_decay': 0.001}\n"
     ]
    },
    {
     "name": "stderr",
     "output_type": "stream",
     "text": [
      "\n"
     ]
    }
   ],
   "source": [
    "\n",
    "x_optm = [optim.Adam, optim.SGD]\n",
    "lr_x = [1e-3, 1e-2, 1e-1, 1]\n",
    "p_optm = [optim.Adam, optim.SGD]\n",
    "lr_p = [1e-3, 1e-2, 1e-1, 1]\n",
    "weight_decay = [0, 1e-3, 1e-2, 1e-1]\n",
    "activation_fns = [nn.ReLU, nn.Tanh]\n",
    "best_val_acc_tuning = 0\n",
    "best_params = None\n",
    "\n",
    "for lr_x_ in tqdm(lr_x):\n",
    "    for lr_p_ in lr_p:\n",
    "        for weight_decay_ in weight_decay:\n",
    "            for optimizer_x_fn in x_optm:\n",
    "                for optimizer_p_fn in p_optm:\n",
    "                    for activation_fn_ in activation_fns:\n",
    "                        input_size = 10\n",
    "                        latent_size = 60\n",
    "                        hidden_size = 256\n",
    "                        hidden2_size = 256\n",
    "                        output_size = 28*28\n",
    "\n",
    "                        # activation_fn = nn.ReLU\n",
    "                        # # activation_fn = nn.Tanh\n",
    "\n",
    "\n",
    "                        class PC_V_model(nn.Module):\n",
    "                            def __init__(self, input_size, latent_size, output_size, hidden_size, hidden2_size, activation_fn):\n",
    "                                super(PC_V_model, self).__init__()\n",
    "                                self.head = nn.Sequential(\n",
    "                                    BiasLayer(latent_size, offset=None),\n",
    "                                    pc.PCLayer(),\n",
    "                                )\n",
    "                                self.encoder = nn.Sequential(\n",
    "                                    nn.Linear(latent_size, hidden_size),\n",
    "                                    pc.PCLayer(),\n",
    "                                    activation_fn(),\n",
    "                                    nn.Linear(hidden_size, hidden2_size),\n",
    "                                    pc.PCLayer(),\n",
    "                                    activation_fn(),\n",
    "                                    nn.Linear(hidden2_size, output_size)\n",
    "                                )\n",
    "                                self.decoder = nn.Sequential(\n",
    "                                    nn.Linear(latent_size, input_size),\n",
    "                                )\n",
    "                                \n",
    "                            def forward(self, x):\n",
    "                                latent = self.head(x)\n",
    "                                return torch.cat((self.encoder(latent), self.decoder(latent)), dim=1)\n",
    "\n",
    "\n",
    "                        pc_v_model = PC_V_model(input_size, latent_size, output_size, hidden_size, hidden2_size, activation_fn)\n",
    "                        pc_v_model.train()\n",
    "                        pc_v_model.to(device)\n",
    "\n",
    "\n",
    "                        def loss_fn_v_model(output, _image, _label):\n",
    "                            return 0.5*(output[:,:_image.shape[1]] - _image).pow(2).sum() + 0.1*CE_loss(output[:,_image.shape[1]:], _label)\n",
    "                        T = 20                             # number of inference iterations\n",
    "                        update_x_at = 'all'                 # update latent state x at every iteration\n",
    "                        optimizer_x_fn = optimizer_x_fn         # optimizer for latent state x\n",
    "                        optimizer_x_kwargs = {'lr': lr_x_}    # optimizer parameters for latent state x\n",
    "                        update_p_at = 'last'                # update parameters p at the last iteration\n",
    "                        optimizer_p_fn = optimizer_p_fn         # optimizer for parameters p\n",
    "                        optimizer_p_kwargs = {\"lr\": lr_p_, \"weight_decay\":weight_decay_} # optimizer parameters for parameters p\n",
    "                        plot_progress_at = []            # plot progress every inference iterations\n",
    "\n",
    "                        trainer_v_model = pc.PCTrainer(pc_v_model, \n",
    "                            T = T, \n",
    "                            update_x_at = update_x_at, \n",
    "                            optimizer_x_fn = optimizer_x_fn,\n",
    "                            optimizer_x_kwargs = optimizer_x_kwargs,\n",
    "                            update_p_at = update_p_at,   \n",
    "                            optimizer_p_fn = optimizer_p_fn,\n",
    "                            optimizer_p_kwargs = optimizer_p_kwargs,\n",
    "                            plot_progress_at= plot_progress_at\n",
    "                        )\n",
    "\n",
    "                        # trainer_v_model.set_optimizer_p(optim.Adam(pc_v_model.decoder.parameters(), lr=0.0001, weight_decay=0.01, betas=(0.9,0.999)))\n",
    "\n",
    "                        def test_v_model(model, dataset, batch_size=1000):\n",
    "                            test_loader = torch.utils.data.DataLoader(dataset, batch_size=batch_size, shuffle=False)\n",
    "\n",
    "                            # make pc_trainer for test_model   \n",
    "                            trainer_test = pc.PCTrainer(model, \n",
    "                                T = 200, \n",
    "                                update_x_at = update_x_at, \n",
    "                                optimizer_x_fn = optimizer_x_fn,\n",
    "                                optimizer_x_kwargs = optimizer_x_kwargs,\n",
    "                                update_p_at = \"never\",   \n",
    "                                optimizer_p_fn = optimizer_p_fn,\n",
    "                                optimizer_p_kwargs = optimizer_p_kwargs,\n",
    "                                plot_progress_at= plot_progress_at\n",
    "                            )\n",
    "\n",
    "                            correct_count, all_count = 0., 0.\n",
    "                            for data, labels in (test_loader):\n",
    "                                pseudo_input = torch.zeros(data.shape[0], latent_size)\n",
    "                                data, labels, pseudo_input = data.to(device), labels.to(device), pseudo_input.to(device)\n",
    "                                labels_one_hot = F.one_hot(labels).float()\n",
    "                                # MAP inference\n",
    "                                results = trainer_test.train_on_batch(inputs=pseudo_input, loss_fn=loss_fn_v_model, loss_fn_kwargs={'_image':data, '_label':labels_one_hot}, is_log_progress=False, is_return_results_every_t=False, is_checking_after_callback_after_t=False, is_return_outputs=True)\n",
    "                                output = results[\"outputs\"][-1]\n",
    "                                pred = torch.max(output[:, data.shape[1]:], dim=1)\n",
    "                                correct = (pred.indices == labels).long()\n",
    "                                correct_count += correct.sum()\n",
    "                                all_count += correct.size(0)\n",
    "                            return round((correct_count / all_count).item(), 4)\n",
    "                        epochs = 10\n",
    "                        batch_size = 512\n",
    "                        train_loader = torch.utils.data.DataLoader(train_dataset, batch_size=batch_size, shuffle=True)\n",
    "\n",
    "                        best_val_acc = 0\n",
    "                        best_model = copy.deepcopy(pc_v_model.state_dict())\n",
    "\n",
    "                        train_acc = [test_v_model(pc_v_model, test_dataset)]\n",
    "                        val_acc = [test_v_model(pc_v_model, val_dataset)]\n",
    "                        for epoch in range(epochs):\n",
    "                            for data, labels in train_loader:\n",
    "                                pseudo_input = torch.zeros(data.shape[0], latent_size)\n",
    "                                data, labels, pseudo_input = data.to(device), labels.to(device), pseudo_input.to(device)\n",
    "                                labels_one_hot = F.one_hot(labels).float()\n",
    "                                trainer_v_model.train_on_batch(inputs=pseudo_input, loss_fn=loss_fn_v_model, loss_fn_kwargs={'_image':data, '_label':labels_one_hot}, is_log_progress=False, is_return_results_every_t=False, is_checking_after_callback_after_t=False)\n",
    "                            train_acc.append(test_v_model(pc_v_model, test_dataset))\n",
    "                            val_acc.append(test_v_model(pc_v_model, val_dataset))\n",
    "                            if val_acc[-1] > best_val_acc:\n",
    "                                best_val_acc = val_acc[-1]\n",
    "                                best_model = copy.deepcopy(pc_v_model.state_dict())\n",
    "                            # print(f'Epoch {epoch+1} - Train acc: {train_acc[-1]}, Val acc: {val_acc[-1]}')\n",
    "\n",
    "                        if best_val_acc > best_val_acc_tuning:\n",
    "                            print(f'Best val acc: {best_val_acc}, Best params: \"lr_x\": {lr_x_}, \"lr_p\": {lr_p_}, \"weight_decay\": {weight_decay_}, \"activation_fn\": {activation_fn_}, \"optimizer_x_fn\": {optimizer_x_fn}, \"optimizer_p_fn\": {optimizer_p_fn}')\n",
    "                            best_val_acc_tuning = best_val_acc\n",
    "                            best_params = {\"lr_x\": lr_x_, \"lr_p\": lr_p_, \"weight_decay\": weight_decay_}\n",
    "\n",
    "print(f'Best val acc: {best_val_acc_tuning}, Best params: {best_params}')"
   ]
  }
 ],
 "metadata": {
  "kernelspec": {
   "display_name": "pytorch",
   "language": "python",
   "name": "python3"
  },
  "language_info": {
   "codemirror_mode": {
    "name": "ipython",
    "version": 3
   },
   "file_extension": ".py",
   "mimetype": "text/x-python",
   "name": "python",
   "nbconvert_exporter": "python",
   "pygments_lexer": "ipython3",
   "version": "3.10.9"
  }
 },
 "nbformat": 4,
 "nbformat_minor": 2
}
