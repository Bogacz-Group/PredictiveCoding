{
 "cells": [
  {
   "cell_type": "markdown",
   "metadata": {},
   "source": [
    "# Monte Carlo Predictive coding demo for unsupervised/generative learning \n",
    "\n",
    "This notebook demonstrates how to train a Monte Carlo predictive coding (MCPC) model on Gaussian data."
   ]
  },
  {
   "cell_type": "markdown",
   "metadata": {},
   "source": [
    "[![Open In Colab](https://colab.research.google.com/assets/colab-badge.svg)](https://colab.research.google.com/github/Bogacz-Group/PredictiveCoding/blob/main/2_unsupervised_learning_mcpc.ipynb)"
   ]
  },
  {
   "cell_type": "code",
   "execution_count": 68,
   "metadata": {},
   "outputs": [],
   "source": [
    "# import pc library of the code is being run on google colab\n",
    "try:\n",
    "  import google.colab\n",
    "  ! git clone https://github.com/Bogacz-Group/PredictiveCoding.git\n",
    "  ! cp -r PredictiveCoding/predictive_coding predictive_coding \n",
    "except ImportError:\n",
    "  pass"
   ]
  },
  {
   "cell_type": "code",
   "execution_count": 69,
   "metadata": {},
   "outputs": [
    {
     "name": "stdout",
     "output_type": "stream",
     "text": [
      "using cuda\n"
     ]
    }
   ],
   "source": [
    "import matplotlib.pyplot as plt\n",
    "import numpy as np\n",
    "import torch\n",
    "import torch.nn as nn\n",
    "import torch.optim as optim\n",
    "from tqdm import tqdm\n",
    "\n",
    "import predictive_coding as pc\n",
    "\n",
    "torch.manual_seed(42)\n",
    "device = torch.device(\"cuda\" if torch.cuda.is_available() else \"cpu\")\n",
    "print(f'using {device}')"
   ]
  },
  {
   "cell_type": "markdown",
   "metadata": {},
   "source": [
    "### Define the training data"
   ]
  },
  {
   "cell_type": "code",
   "execution_count": 70,
   "metadata": {},
   "outputs": [],
   "source": [
    "# data parameters\n",
    "mean = 1.               \n",
    "variance = 5.              \n",
    "batch_size = 256    \n",
    "nm_batches = 150        \n",
    "\n",
    "# generate data\n",
    "data = [mean + np.sqrt(variance)*torch.randn(batch_size, 1) for i in range(nm_batches)]"
   ]
  },
  {
   "cell_type": "markdown",
   "metadata": {},
   "source": [
    "### Defining the model\n",
    "\n",
    "This is the same as defining a predictive coding model with the addition of a input layer that discregard model inputs and returns a constant."
   ]
  },
  {
   "cell_type": "code",
   "execution_count": 71,
   "metadata": {},
   "outputs": [],
   "source": [
    "class BiasLayer(nn.Module):\n",
    "    def __init__(self, out_features):\n",
    "        super(BiasLayer, self).__init__()\n",
    "        self.bias = nn.Parameter(torch.Tensor(1,out_features), requires_grad=True)\n",
    "        nn.init.constant_(self.bias, 0.0)\n",
    "\n",
    "    def forward(self, x):\n",
    "        return torch.zeros_like(x) + self.bias  # return the prior mean \\mu with the same shape as the input x to make sure the batch size is the same"
   ]
  },
  {
   "cell_type": "code",
   "execution_count": 72,
   "metadata": {},
   "outputs": [],
   "source": [
    "latent_size = 1     # number of latent states in latent layer\n",
    "output_size = 1     # number of dimensions in data \n",
    "loss_fn = lambda output, _target: 0.5*(output - _target).pow(2).sum()  # loss function is mean squared error\n",
    "\n",
    "mcpc_model = nn.Sequential(\n",
    "    BiasLayer(latent_size),\n",
    "    pc.PCLayer(),\n",
    "    nn.Linear(latent_size, output_size, bias=False),\n",
    ")\n",
    "mcpc_model.train();"
   ]
  },
  {
   "cell_type": "markdown",
   "metadata": {},
   "source": [
    "### Defining the trainer\n",
    "\n",
    "An MCPC model differs from a predictive coding model by the additional noise in its inference dynamics. This noise can be added by defining a noisy optimiser as we do in the class `SGDLD`.\n",
    "\n",
    "Moreover, an MCPC model can be trained by sampling the activity trajectory. This code splits the inference into two parts. First a mixing period, `T_mixing`, without activity sampling followed by an activity sampling period, `T_sampling`."
   ]
  },
  {
   "cell_type": "code",
   "execution_count": 73,
   "metadata": {},
   "outputs": [],
   "source": [
    "class SGDLD(optim.SGD):\n",
    "    def __init__(self, params, lr=0.01, weight_decay=0, noise_var=1.):\n",
    "        super(SGDLD, self).__init__(params, lr, weight_decay)\n",
    "        self.noise_var = noise_var\n",
    "\n",
    "    def step(self, closure=None):\n",
    "        super(SGDLD, self).step(closure)\n",
    "\n",
    "        for group in self.param_groups:\n",
    "            for p in group['params']:\n",
    "                if p.grad is None:\n",
    "                    continue\n",
    "                p.data.add_(np.sqrt(2*self.noise_var*group['lr'])*torch.randn_like(p))"
   ]
  },
  {
   "cell_type": "code",
   "execution_count": 74,
   "metadata": {},
   "outputs": [],
   "source": [
    "T_mixing = 250                      # number of inference iterations without parameter gradient accumulation\n",
    "T_sampling = 1                      # number of inference iterations without parameter gradient accumulation\n",
    "update_x_at = 'all'                 # update latent state x at every iteration\n",
    "optimizer_x_fn = SGDLD              # noisy optimizer for latent state x\n",
    "optimizer_x_kwargs = {'lr': 0.01}   # optimizer parameters for latent state x\n",
    "update_p_at = 'last'                # update parameters p at the last iteration\n",
    "optimizer_p_fn = optim.Adam         # optimizer for parameters p\n",
    "optimizer_p_kwargs = {'lr': 0.1}    # optimizer parameters for p\n",
    "plot_progress_at = []               # plot progress every inference iterations\n",
    "\n",
    "\n",
    "trainer = pc.PCTrainer(mcpc_model, \n",
    "    T = T_mixing+T_sampling, \n",
    "    update_x_at = update_x_at, \n",
    "    optimizer_x_fn = optimizer_x_fn,\n",
    "    optimizer_x_kwargs = optimizer_x_kwargs,\n",
    "    update_p_at = update_p_at,   \n",
    "    optimizer_p_fn = optimizer_p_fn,\n",
    "    optimizer_p_kwargs = optimizer_p_kwargs,\n",
    "    plot_progress_at= plot_progress_at\n",
    ")"
   ]
  },
  {
   "cell_type": "markdown",
   "metadata": {},
   "source": [
    "### Train the model"
   ]
  },
  {
   "cell_type": "code",
   "execution_count": 75,
   "metadata": {},
   "outputs": [
    {
     "name": "stderr",
     "output_type": "stream",
     "text": [
      "Epoch: 1: 100%|██████████| 150/150 [00:14<00:00, 10.04it/s]\n",
      "Epoch: 2: 100%|██████████| 150/150 [00:14<00:00, 10.14it/s]\n",
      "Epoch: 3: 100%|██████████| 150/150 [00:14<00:00, 10.05it/s]\n",
      "Epoch: 4: 100%|██████████| 150/150 [00:42<00:00,  3.50it/s]\n",
      "Epoch: 5: 100%|██████████| 150/150 [00:41<00:00,  3.57it/s]\n"
     ]
    }
   ],
   "source": [
    "n_epochs = 5\n",
    "\n",
    "for idx_epoch in range(n_epochs):\n",
    "    for i, y in enumerate(pbar := tqdm(data, desc=f\"Epoch: {idx_epoch+1}\")):\n",
    "        pseudo_input = torch.zeros(batch_size, 1) # pseudo input data, This data is only used to set the batch_size of the PCLayers\n",
    "        trainer.train_on_batch(\n",
    "            inputs=pseudo_input, \n",
    "            loss_fn=loss_fn, \n",
    "            loss_fn_kwargs={'_target':y}\n",
    "        )\n",
    "    pbar.set_description(f\"Epoch: {idx_epoch+1}\")"
   ]
  },
  {
   "cell_type": "markdown",
   "metadata": {},
   "source": [
    "### Evaluate the model\n",
    "\n",
    "Comparison of the data distirbution learned by the model to the actual data distribution.\n",
    "\n",
    "The distirbution learnd by an MCPC model can be obtained by performing inference without data. However, a `PCLayer()` needs to be added to the model because a pc layer is implicitly defined during training using the loss function and the data."
   ]
  },
  {
   "cell_type": "code",
   "execution_count": 76,
   "metadata": {},
   "outputs": [],
   "source": [
    "model_generation = nn.Sequential(\n",
    "    mcpc_model[:],\n",
    "    pc.PCLayer() \n",
    ")\n",
    "model_generation.train()    \n",
    "\n",
    "# setup trainer for generation with large T\n",
    "generation_trainer = pc.PCTrainer(model_generation, \n",
    "    T = 10000, \n",
    "    update_x_at = update_x_at, \n",
    "    optimizer_x_fn = optimizer_x_fn,\n",
    "    optimizer_x_kwargs = optimizer_x_kwargs,\n",
    "    update_p_at = \"never\",                      # the model is already trained\n",
    "    optimizer_p_fn = optimizer_p_fn,\n",
    "    optimizer_p_kwargs = optimizer_p_kwargs,\n",
    "    plot_progress_at= plot_progress_at\n",
    ")"
   ]
  },
  {
   "cell_type": "markdown",
   "metadata": {},
   "source": [
    "Perform inference"
   ]
  },
  {
   "cell_type": "code",
   "execution_count": 77,
   "metadata": {},
   "outputs": [],
   "source": [
    "nm_samples = 10240\n",
    "pseudo_input = torch.zeros(nm_samples, 1) \n",
    "generation_trainer.train_on_batch(inputs=pseudo_input, is_log_progress=False, is_return_results_every_t=False, is_checking_after_callback_after_t=False)\n",
    "\n",
    "samples = model_generation[-1]._x.detach().cpu().numpy()"
   ]
  },
  {
   "cell_type": "markdown",
   "metadata": {},
   "source": [
    "Visualise the distribution"
   ]
  },
  {
   "cell_type": "code",
   "execution_count": 78,
   "metadata": {},
   "outputs": [
    {
     "data": {
      "image/png": "[encoded data removed]",
      "text/plain": [
       "<Figure size 640x480 with 1 Axes>"
      ]
     },
     "metadata": {},
     "output_type": "display_data"
    }
   ],
   "source": [
    "plt.hist(samples, bins=20, alpha=0.5, density=True, label=\"learned distirbution\")\n",
    "x = np.linspace(-10,10,100)\n",
    "plt.plot(x, 1/np.sqrt(2*np.pi*variance)*np.exp(-0.5*(x - mean)**2/variance), \"k\", linewidth=2, label=\"data distribution\")\n",
    "plt.xlabel(r\"$x_0$\")\n",
    "plt.ylabel(r\"$p(x_0)$\")\n",
    "plt.legend()\n",
    "plt.tight_layout()"
   ]
  }
 ],
 "metadata": {
  "kernelspec": {
   "display_name": "pytorch",
   "language": "python",
   "name": "python3"
  },
  "language_info": {
   "codemirror_mode": {
    "name": "ipython",
    "version": 3
   },
   "file_extension": ".py",
   "mimetype": "text/x-python",
   "name": "python",
   "nbconvert_exporter": "python",
   "pygments_lexer": "ipython3",
   "version": "3.10.9"
  }
 },
 "nbformat": 4,
 "nbformat_minor": 2
}
